{
 "cells": [
  {
   "cell_type": "code",
   "execution_count": 6,
   "metadata": {},
   "outputs": [],
   "source": [
    "import pandas as pd\n",
    "import matplotlib.pyplot as plt\n",
    "import numpy as np\n",
    "import seaborn as sbs\n",
    "from tokenizers import Tokenizer\n",
    "\n",
    "import torch\n",
    "import torch.nn as nn\n",
    "import torch.cuda.amp as amp  # AMP 모듈 추가\n",
    "\n",
    "from torch.utils.data import DataLoader, Dataset\n",
    "from transformers import BartConfig, BartModel, PreTrainedTokenizerFast\n",
    "from torch.optim import AdamW\n",
    "from transformers import BartConfig, BartModel, PreTrainedTokenizerFast\n",
    "from tqdm import tqdm\n",
    "\n",
    "import random\n",
    "import matplotlib.pyplot as plt\n",
    "\n",
    "import encoder_train_v3"
   ]
  },
  {
   "cell_type": "code",
   "execution_count": 7,
   "metadata": {},
   "outputs": [
    {
     "name": "stdout",
     "output_type": "stream",
     "text": [
      "Using device: cuda\n"
     ]
    },
    {
     "name": "stderr",
     "output_type": "stream",
     "text": [
      "Epoch 1/20: 100%|██████████| 3238/3238 [24:00<00:00,  2.25it/s]\n"
     ]
    },
    {
     "name": "stdout",
     "output_type": "stream",
     "text": [
      "Epoch 1/20 - Loss: 0.0036\n",
      "🔹 Model improved. Saved at trained_encoder3.pth.\n"
     ]
    },
    {
     "name": "stderr",
     "output_type": "stream",
     "text": [
      "Epoch 2/20: 100%|██████████| 3238/3238 [23:15<00:00,  2.32it/s]\n"
     ]
    },
    {
     "name": "stdout",
     "output_type": "stream",
     "text": [
      "Epoch 2/20 - Loss: 0.0000\n",
      "🔹 Model improved. Saved at trained_encoder3.pth.\n"
     ]
    },
    {
     "name": "stderr",
     "output_type": "stream",
     "text": [
      "Epoch 3/20: 100%|██████████| 3238/3238 [23:15<00:00,  2.32it/s]"
     ]
    },
    {
     "name": "stdout",
     "output_type": "stream",
     "text": [
      "Epoch 3/20 - Loss: 0.0000\n",
      "⚠️ No improvement for 1/3 epochs.\n"
     ]
    },
    {
     "name": "stderr",
     "output_type": "stream",
     "text": [
      "\n",
      "Epoch 4/20: 100%|██████████| 3238/3238 [23:19<00:00,  2.31it/s]"
     ]
    },
    {
     "name": "stdout",
     "output_type": "stream",
     "text": [
      "Epoch 4/20 - Loss: 0.0000\n",
      "⚠️ No improvement for 2/3 epochs.\n"
     ]
    },
    {
     "name": "stderr",
     "output_type": "stream",
     "text": [
      "\n",
      "Epoch 5/20: 100%|██████████| 3238/3238 [23:22<00:00,  2.31it/s]"
     ]
    },
    {
     "name": "stdout",
     "output_type": "stream",
     "text": [
      "Epoch 5/20 - Loss: 0.0000\n",
      "⚠️ No improvement for 3/3 epochs.\n",
      "⏹ Early Stopping triggered. Training stopped.\n"
     ]
    },
    {
     "name": "stderr",
     "output_type": "stream",
     "text": [
      "\n"
     ]
    },
    {
     "data": {
      "image/png": "[encoded data removed]",
      "text/plain": [
       "<Figure size 640x480 with 1 Axes>"
      ]
     },
     "metadata": {},
     "output_type": "display_data"
    },
    {
     "name": "stdout",
     "output_type": "stream",
     "text": [
      "훈련된 모델이 'trained_encoder3.pth'로 저장되었습니다.\n"
     ]
    }
   ],
   "source": [
    "train_path = 'datas/encoder_augmentation.csv'\n",
    "save_path = \"trained_encoder3.pth\"\n",
    "tokenizer_path = \"tokenizers/BPE_tokenizer_50000_aug.json\"\n",
    "epochs = 20\n",
    "batch_size = 12\n",
    "sample_size = -1\n",
    "d_model=768\n",
    "encoder_layers=4\n",
    "encoder_attention_heads=8\n",
    "patience=3  # Early Stopping 기준 (N 에포크 동안 개선 없으면 종료)\n",
    "min_delta=0.0001  # 손실 감소 기준\n",
    "\n",
    "encoder = encoder_train_v3.train(\n",
    "    train_path=train_path,\n",
    "    save_path= save_path,\n",
    "    tokenizer_path=tokenizer_path,\n",
    "    epochs=epochs,\n",
    "    batch_size=batch_size,\n",
    "    sample_size=sample_size,\n",
    "    d_model=d_model,\n",
    "    encoder_layers=encoder_layers,\n",
    "    encoder_attention_heads=encoder_attention_heads,\n",
    "    patience=patience,\n",
    "    min_delta=min_delta\n",
    ")"
   ]
  },
  {
   "cell_type": "markdown",
   "metadata": {},
   "source": [
    "encoder_layers=4\n",
    "\n",
    "encoder_attention_heads=4\n",
    "\n",
    "Using device: cuda\n",
    "Epoch 1/4: 100%|██████████| 10/10 [00:14<00:00,  1.42s/it]Epoch 1/4 - Loss: 0.1634\n",
    "\n",
    "\n",
    "\n",
    "\n",
    "encoder_layers=3\n",
    "\n",
    "encoder_attention_heads=8\n",
    "\n",
    "Epoch 1/4: 100%|██████████| 10/10 [00:11<00:00,  1.14s/it]Epoch 1/4 - Loss: 0.1806\n",
    "\n",
    "\n",
    "batch_size = 12\n",
    "\n",
    "encoder_layers=3\n",
    "\n",
    "encoder_attention_heads=8\n",
    "\n",
    "Epoch 1/4: 100%|██████████| 9/9 [00:11<00:00,  1.26s/it]Epoch 1/4 - Loss: 0.1953\n",
    "\n",
    "Epoch 2/4: 100%|██████████| 9/9 [00:10<00:00,  1.21s/it]Epoch 2/4 - Loss: 0.0893\n",
    "\n",
    "Epoch 3/4:  33%|███▎      | 3/9 [00:05<00:10,  1.72s/it]"
   ]
  },
  {
   "cell_type": "code",
   "execution_count": 8,
   "metadata": {},
   "outputs": [
    {
     "ename": "AttributeError",
     "evalue": "'textEncoder' object has no attribute 'config'",
     "output_type": "error",
     "traceback": [
      "\u001b[0;31m---------------------------------------------------------------------------\u001b[0m",
      "\u001b[0;31mAttributeError\u001b[0m                            Traceback (most recent call last)",
      "Cell \u001b[0;32mIn[8], line 1\u001b[0m\n\u001b[0;32m----> 1\u001b[0m \u001b[43mencoder\u001b[49m\u001b[38;5;241;43m.\u001b[39;49m\u001b[43mconfig\u001b[49m\n",
      "File \u001b[0;32m~/anaconda3/envs/pytorch/lib/python3.10/site-packages/torch/nn/modules/module.py:1931\u001b[0m, in \u001b[0;36mModule.__getattr__\u001b[0;34m(self, name)\u001b[0m\n\u001b[1;32m   1929\u001b[0m     \u001b[38;5;28;01mif\u001b[39;00m name \u001b[38;5;129;01min\u001b[39;00m modules:\n\u001b[1;32m   1930\u001b[0m         \u001b[38;5;28;01mreturn\u001b[39;00m modules[name]\n\u001b[0;32m-> 1931\u001b[0m \u001b[38;5;28;01mraise\u001b[39;00m \u001b[38;5;167;01mAttributeError\u001b[39;00m(\n\u001b[1;32m   1932\u001b[0m     \u001b[38;5;124mf\u001b[39m\u001b[38;5;124m\"\u001b[39m\u001b[38;5;124m'\u001b[39m\u001b[38;5;132;01m{\u001b[39;00m\u001b[38;5;28mtype\u001b[39m(\u001b[38;5;28mself\u001b[39m)\u001b[38;5;241m.\u001b[39m\u001b[38;5;18m__name__\u001b[39m\u001b[38;5;132;01m}\u001b[39;00m\u001b[38;5;124m'\u001b[39m\u001b[38;5;124m object has no attribute \u001b[39m\u001b[38;5;124m'\u001b[39m\u001b[38;5;132;01m{\u001b[39;00mname\u001b[38;5;132;01m}\u001b[39;00m\u001b[38;5;124m'\u001b[39m\u001b[38;5;124m\"\u001b[39m\n\u001b[1;32m   1933\u001b[0m )\n",
      "\u001b[0;31mAttributeError\u001b[0m: 'textEncoder' object has no attribute 'config'"
     ]
    }
   ],
   "source": [
    "encoder.config"
   ]
  },
  {
   "cell_type": "code",
   "execution_count": 4,
   "metadata": {},
   "outputs": [],
   "source": [
    "\n",
    "\n",
    "\n",
    "# from transformers import BartModel\n",
    "# import torch\n",
    "\n",
    "# # BART 모델 아키텍처 로드 (전체 모델이 아니라 encoder만 사용)\n",
    "# bart_model = BartModel.from_pretrained(\"facebook/bart-large\")\n",
    "\n",
    "# # 저장된 가중치 로드\n",
    "# state_dict = torch.load(\"trained_encoder3.pth\", map_location=\"cpu\")\n",
    "\n",
    "# # 가중치를 encoder 부분만 로드\n",
    "# bart_model.encoder.load_state_dict(state_dict, strict=False)  # strict=False 옵션 추가\n",
    "\n",
    "# # GPU 적용\n",
    "# device = torch.device(\"cuda\" if torch.cuda.is_available() else \"cpu\")\n",
    "# bart_model.encoder.to(device)\n",
    "\n",
    "# # 평가 모드 설정\n",
    "# bart_model.encoder.eval()\n",
    "\n",
    "# print(\"✅ BART 인코더 가중치 로드 완료!\")\n"
   ]
  }
 ],
 "metadata": {
  "kernelspec": {
   "display_name": "pytorch",
   "language": "python",
   "name": "python3"
  },
  "language_info": {
   "codemirror_mode": {
    "name": "ipython",
    "version": 3
   },
   "file_extension": ".py",
   "mimetype": "text/x-python",
   "name": "python",
   "nbconvert_exporter": "python",
   "pygments_lexer": "ipython3",
   "version": "3.10.16"
  }
 },
 "nbformat": 4,
 "nbformat_minor": 2
}
