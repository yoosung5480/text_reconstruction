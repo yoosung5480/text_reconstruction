{
 "cells": [
  {
   "cell_type": "markdown",
   "metadata": {},
   "source": [
    "# 곧바로 난독화 텍스트와 복원된 텍스트셋 학습시키기"
   ]
  },
  {
   "cell_type": "markdown",
   "metadata": {},
   "source": [
    "### 인코더 사전 훈련후, 인코더 -> 디코더 파인튜닝"
   ]
  },
  {
   "cell_type": "code",
   "execution_count": 1,
   "metadata": {},
   "outputs": [],
   "source": [
    "import pandas as pd\n",
    "import matplotlib.pyplot as plt\n",
    "import numpy as np\n",
    "import seaborn as sbs"
   ]
  },
  {
   "cell_type": "code",
   "execution_count": 2,
   "metadata": {},
   "outputs": [
    {
     "name": "stdout",
     "output_type": "stream",
     "text": [
      "토큰화 결과: ['별', '한', '게토', '았깝', '땀', '.', '왜', '싸람', '듯', '릭', '펼', '1캐', '를', '쥰눈', '징', '컥', '꺾', '폰', '싸람', '믐', '롯', '섞', '맒록', '섧멍', '핥', '쟈', '닐', '탯', '끎룐눈', '녀뮤', '퀼', '교', '...', '야뭍', '툰', '둠', '변', '닺씨', '깍', '낄', '싫훈', '굣', '.', '깸삥', '읊', '20', '여', '년', '댜녁', '뵨', '곧', '중', '쩨윌', '귑푼', '낙', '팠', '떤', '곶', '.']\n"
     ]
    }
   ],
   "source": [
    "from tokenizers import Tokenizer\n",
    "\n",
    "# 저장된 토크나이저 로드\n",
    "tokenizer = Tokenizer.from_file(\"tokenizers/BPE_tokenizer_50000.json\")\n",
    "text_sample =  '별 한 게토 았깝땀. 왜 싸람듯릭 펼 1캐를 쥰눈징 컥꺾폰 싸람믐롯섞 맒록 섧멍핥쟈닐 탯끎룐눈 녀뮤 퀼교... 야뭍툰 둠 변 닺씨 깍낄 싫훈 굣. 깸삥읊 20여 년 댜녁뵨 곧 중 쩨윌 귑푼 낙팠떤 곶.'\n",
    "# 테스트\n",
    "input_encoded = tokenizer.encode(text_sample)\n",
    "print(\"토큰화 결과:\", input_encoded.tokens)\n"
   ]
  },
  {
   "cell_type": "code",
   "execution_count": 3,
   "metadata": {},
   "outputs": [
    {
     "data": {
      "text/plain": [
       "50000"
      ]
     },
     "execution_count": 3,
     "metadata": {},
     "output_type": "execute_result"
    }
   ],
   "source": [
    "tokenizer.get_vocab_size()"
   ]
  },
  {
   "cell_type": "code",
   "execution_count": 4,
   "metadata": {},
   "outputs": [
    {
     "name": "stderr",
     "output_type": "stream",
     "text": [
      "/home/jeongyuseong/anaconda3/envs/pytorch/lib/python3.10/site-packages/tqdm/auto.py:21: TqdmWarning: IProgress not found. Please update jupyter and ipywidgets. See https://ipywidgets.readthedocs.io/en/stable/user_install.html\n",
      "  from .autonotebook import tqdm as notebook_tqdm\n"
     ]
    },
    {
     "data": {
      "text/plain": [
       "BartTokenizerFast(name_or_path='facebook/bart-base', vocab_size=50265, model_max_length=1000000000000000019884624838656, is_fast=True, padding_side='right', truncation_side='right', special_tokens={'bos_token': '<s>', 'eos_token': '</s>', 'unk_token': '<unk>', 'sep_token': '</s>', 'pad_token': '<pad>', 'cls_token': '<s>', 'mask_token': '<mask>'}, clean_up_tokenization_spaces=False, added_tokens_decoder={\n",
       "\t0: AddedToken(\"<s>\", rstrip=False, lstrip=False, single_word=False, normalized=True, special=True),\n",
       "\t1: AddedToken(\"<pad>\", rstrip=False, lstrip=False, single_word=False, normalized=True, special=True),\n",
       "\t2: AddedToken(\"</s>\", rstrip=False, lstrip=False, single_word=False, normalized=True, special=True),\n",
       "\t3: AddedToken(\"<unk>\", rstrip=False, lstrip=False, single_word=False, normalized=True, special=True),\n",
       "\t50264: AddedToken(\"<mask>\", rstrip=False, lstrip=True, single_word=False, normalized=True, special=True),\n",
       "}\n",
       ")"
      ]
     },
     "execution_count": 4,
     "metadata": {},
     "output_type": "execute_result"
    }
   ],
   "source": [
    "from transformers import BartTokenizerFast\n",
    "\n",
    "tokenizer2 = BartTokenizerFast.from_pretrained(\"facebook/bart-base\")\n",
    "tokenizer2"
   ]
  },
  {
   "cell_type": "code",
   "execution_count": 5,
   "metadata": {},
   "outputs": [
    {
     "name": "stdout",
     "output_type": "stream",
     "text": [
      "원본 텍스트: 꺼율위 쓱팍\n",
      "마스킹된 텍스트: <mask>\n",
      "--------------------------------------------------\n",
      "원본 텍스트: 탐패 냄쌕갊 묘둔 쟝졈울\n",
      "마스킹된 텍스트: <mask> 묘둔 쟝졈울\n",
      "--------------------------------------------------\n",
      "원본 텍스트: 집윈 축쳐눌료 딴너왓눈뎁\n",
      "마스킹된 텍스트: 집윈 <mask>\n",
      "--------------------------------------------------\n",
      "원본 텍스트: 탐패 냄쌕갊 묘둔 쟝졈울 카셩뷔\n",
      "마스킹된 텍스트: 탐패 냄쌕갊 묘둔 쟝졈울 <mask>\n",
      "--------------------------------------------------\n"
     ]
    }
   ],
   "source": [
    "import random\n",
    "\n",
    "def apply_infilling_masking(text, mask_token=\"<mask>\", mask_prob=0.15, max_mask_size=3):\n",
    "    \"\"\"\n",
    "    Infilling Masking을 적용하는 함수.\n",
    "    \n",
    "    Args:\n",
    "        text (str): 원본 텍스트\n",
    "        mask_token (str): 마스킹 토큰 (디폴트: <mask>)\n",
    "        mask_prob (float): 토큰을 마스킹할 확률 (디폴트: 0.15)\n",
    "        max_mask_size (int): 최대 연속 마스킹 토큰 수 (디폴트: 3)\n",
    "\n",
    "    Returns:\n",
    "        str: 마스킹된 텍스트\n",
    "    \"\"\"\n",
    "    # 텍스트를 공백 기준으로 토큰화\n",
    "    tokens = text.split()\n",
    "\n",
    "    # 마스킹 대상 토큰 선택\n",
    "    num_masks = max(1, int(len(tokens) * mask_prob))\n",
    "    mask_positions = random.sample(range(len(tokens)), num_masks)\n",
    "\n",
    "    # 마스킹 적용\n",
    "    for pos in mask_positions:\n",
    "        mask_length = random.randint(1, max_mask_size)  # 연속 마스크 길이\n",
    "        tokens[pos:pos + mask_length] = [mask_token]\n",
    "\n",
    "    # 마스킹된 텍스트 반환\n",
    "    return \" \".join(tokens)\n",
    "\n",
    "\n",
    "# 테스트\n",
    "original_texts = [\n",
    "    \"꺼율위 쓱팍\",\n",
    "    \"탐패 냄쌕갊 묘둔 쟝졈울\",\n",
    "    \"집윈 축쳐눌료 딴너왓눈뎁\",\n",
    "    \"탐패 냄쌕갊 묘둔 쟝졈울 카셩뷔\",\n",
    "]\n",
    "masked_text_list = []\n",
    "\n",
    "# Infilling Masking 적용 예시\n",
    "for text in original_texts:\n",
    "    masked_text = apply_infilling_masking(text)\n",
    "    masked_text_list.append(masked_text)\n",
    "    print(f\"원본 텍스트: {text}\")\n",
    "    print(f\"마스킹된 텍스트: {masked_text}\")\n",
    "    print(\"-\" * 50)"
   ]
  },
  {
   "cell_type": "code",
   "execution_count": 6,
   "metadata": {},
   "outputs": [
    {
     "name": "stdout",
     "output_type": "stream",
     "text": [
      "원본 텍스트: <mask>\n",
      "토큰화된 텍스트: ['<mask>']\n",
      "--------------------------------------------------\n",
      "원본 텍스트: <mask> 묘둔 쟝졈울\n",
      "토큰화된 텍스트: ['<mask>', '묘둔', '쟝졈', '울']\n",
      "--------------------------------------------------\n",
      "원본 텍스트: 집윈 <mask>\n",
      "토큰화된 텍스트: ['집', '윈', '<mask>']\n",
      "--------------------------------------------------\n",
      "원본 텍스트: 탐패 냄쌕갊 묘둔 쟝졈울 <mask>\n",
      "토큰화된 텍스트: ['탐패', '냄쌕', '갊', '묘둔', '쟝졈', '울', '<mask>']\n",
      "--------------------------------------------------\n",
      "\n",
      "원본 텍스트: 꺼율위 쓱팍\n",
      "토큰화된 텍스트: ['꺼', '율위', '쓱', '팍']\n",
      "--------------------------------------------------\n",
      "원본 텍스트: 탐패 냄쌕갊 묘둔 쟝졈울\n",
      "토큰화된 텍스트: ['탐패', '냄쌕', '갊', '묘둔', '쟝졈', '울']\n",
      "--------------------------------------------------\n",
      "원본 텍스트: 집윈 축쳐눌료 딴너왓눈뎁\n",
      "토큰화된 텍스트: ['집', '윈', '축', '쳐', '눌료', '딴너왓', '눈뎁']\n",
      "--------------------------------------------------\n",
      "원본 텍스트: 탐패 냄쌕갊 묘둔 쟝졈울 카셩뷔\n",
      "토큰화된 텍스트: ['탐패', '냄쌕', '갊', '묘둔', '쟝졈', '울', '카셩뷔']\n",
      "--------------------------------------------------\n"
     ]
    }
   ],
   "source": [
    "for text in masked_text_list:\n",
    "    tokenized = tokenizer.encode(text)\n",
    "    print(f\"원본 텍스트: {text}\")\n",
    "    print(f\"토큰화된 텍스트: {tokenized.tokens}\")\n",
    "    print(\"-\" * 50)\n",
    "print()\n",
    "for text in original_texts:\n",
    "    tokenized = tokenizer.encode(text)\n",
    "    print(f\"원본 텍스트: {text}\")\n",
    "    print(f\"토큰화된 텍스트: {tokenized.tokens}\")\n",
    "    print(\"-\" * 50)\n"
   ]
  },
  {
   "cell_type": "code",
   "execution_count": 7,
   "metadata": {},
   "outputs": [],
   "source": [
    "test_path = 'datas/test.csv'\n",
    "train_path = 'datas/train.csv'\n",
    "\n",
    "test_pd = pd.read_csv(test_path)\n",
    "train_pd = pd.read_csv(train_path)\n",
    "\n",
    "# 가장 긴 생성할 테스트 난독화 텍스트 길이 : 1965\n",
    "# 두 문장 모두 최대길이는 1381 1381\n",
    "train_text = list(train_pd['input'])\n",
    "masked_text = [apply_infilling_masking(x) for x in train_text]\n",
    "textGT = list(train_pd['output'])\n"
   ]
  },
  {
   "cell_type": "code",
   "execution_count": 8,
   "metadata": {},
   "outputs": [
    {
     "name": "stdout",
     "output_type": "stream",
     "text": [
      "별 한 게토 았깝땀. 왜 싸람듯릭 펼 1캐를 쥰눈징 컥꺾폰 싸람믐롯섞 맒록 섧멍핥쟈닐 탯끎룐눈 녀뮤 퀼교... 야뭍툰 둠 변 닺씨 깍낄 싫훈 굣. 깸삥읊 20여 년 댜녁뵨 곧 중 쩨윌 귑푼 낙팠떤 곶.\n",
      "별 <mask> 게토 았깝땀. <mask> 펼 1캐를 쥰눈징 컥꺾폰 <mask> 섧멍핥쟈닐 탯끎룐눈 녀뮤 퀼교... 야뭍툰 둠 <mask> 싫훈 굣. 깸삥읊 20여 년 댜녁뵨 곧 중 쩨윌 귑푼 낙팠떤 곶.\n",
      "별 한 개도 아깝다. 왜 사람들이 별 1개를 주는지 겪어본 사람으로서 말로 설명하자니 댓글로는 너무 길고... 아무튼 두 번 다시 가길 싫은 곳. 캠핑을 20여 년 다녀본 곳 중 제일 기분 나빴던 곳.\n",
      "--------------------------------------------------\n",
      "잚많 쟉꼬 갉 태 좋눼욥. 차못동 줆 ㅋ\n",
      "<mask> 쟉꼬 갉 태 좋눼욥. 차못동 줆 ㅋ\n",
      "잠만 자고 갈 때 좋네요. 잠옷도 줌 ㅋ\n",
      "--------------------------------------------------\n",
      "절테 간면 않 된는 굣 멥몫\n",
      "절테 간면 <mask> 된는 굣 멥몫\n",
      "절대 가면 안 되는 곳 메모\n",
      "--------------------------------------------------\n"
     ]
    }
   ],
   "source": [
    "for i in range(3):\n",
    "    print(train_text[i])\n",
    "    print(masked_text[i])\n",
    "    print(textGT[i])\n",
    "    print(\"-\" * 50)"
   ]
  },
  {
   "cell_type": "code",
   "execution_count": 9,
   "metadata": {},
   "outputs": [
    {
     "name": "stdout",
     "output_type": "stream",
     "text": [
      "['꺼', '율위', '쓱', '팍']\n",
      "[1, 1, 1, 1]\n",
      "[386, 17635, 1473, 2229]\n"
     ]
    }
   ],
   "source": [
    "input_encoded = tokenizer.encode(original_texts[0])\n",
    "print(input_encoded.tokens)\n",
    "print(input_encoded.attention_mask)\n",
    "print(input_encoded.ids)"
   ]
  },
  {
   "cell_type": "code",
   "execution_count": 10,
   "metadata": {},
   "outputs": [],
   "source": [
    "import torch\n",
    "import pandas as pd\n",
    "from torch.utils.data import DataLoader, Dataset\n",
    "from transformers import BartConfig, BartModel, PreTrainedTokenizerFast\n",
    "from torch.optim import AdamW\n",
    "\n",
    "\n",
    "class EncoderDataset(Dataset):\n",
    "    \"\"\"\n",
    "    inputs ('str' list): Text infilling된 난독화 텍스트 리스트\n",
    "    targets ('str' list): 원본 난독화 텍스트 리스트\n",
    "    tokenizer : 커스텀 토크나이저 (BPE, WordPiece 등)\n",
    "    max_len : 원본 문자열 최대 길이\n",
    "    \"\"\"\n",
    "    def __init__(self, inputs, targets, tokenizer, max_len):\n",
    "        self.inputs = inputs\n",
    "        self.targets = targets\n",
    "        self.tokenizer = tokenizer\n",
    "        self.max_len = max_len\n",
    "\n",
    "    def __len__(self):\n",
    "        return len(self.inputs)\n",
    "\n",
    "    def __getitem__(self, index):\n",
    "        input_text = self.inputs[index]\n",
    "        target_text = self.targets[index]\n",
    "\n",
    "        # 입력 텍스트 토큰화 (타겟 텍스트는 별도로 사용 안 함)\n",
    "        input_encoded = self.tokenizer.encode(input_text)\n",
    "        target_encoded = self.tokenizer.encode(target_text)\n",
    "\n",
    "        # 토큰 ID와 패딩 적용\n",
    "        input_ids = input_encoded.ids\n",
    "        target_ids = target_encoded.ids\n",
    "        attention_mask = [1] * len(input_ids)\n",
    "\n",
    "        # 시퀀스 길이 조정\n",
    "        if len(input_ids) < self.max_len:\n",
    "            # 패딩 추가\n",
    "            pad_length = self.max_len - len(input_ids)\n",
    "            target_pad_length = self.max_len - len(target_ids)\n",
    "            input_ids += [self.tokenizer.token_to_id(\"<pad>\")] * pad_length\n",
    "            target_ids += [self.tokenizer.token_to_id(\"<pad>\")] * target_pad_length\n",
    "            attention_mask += [0] * pad_length\n",
    "        else:\n",
    "            # 길이 초과 시 자르기\n",
    "            input_ids = input_ids[:self.max_len]\n",
    "            target_ids = target_ids[:self.max_len]\n",
    "            attention_mask = attention_mask[:self.max_len]\n",
    "\n",
    "        # 텐서로 변환\n",
    "        input_ids = torch.tensor(input_ids, dtype=torch.long)\n",
    "        target_ids = torch.tensor(target_ids, dtype=torch.long)\n",
    "        attention_mask = torch.tensor(attention_mask, dtype=torch.long)\n",
    "\n",
    "        return {\n",
    "            \"input_ids\": input_ids.squeeze(0),\n",
    "            \"attention_mask\": attention_mask.squeeze(0),\n",
    "            \"labels\": target_ids.squeeze(0)\n",
    "        }"
   ]
  },
  {
   "cell_type": "code",
   "execution_count": 11,
   "metadata": {},
   "outputs": [
    {
     "name": "stdout",
     "output_type": "stream",
     "text": [
      "torch.Size([2000])\n",
      "torch.Size([2000])\n",
      "torch.Size([2000])\n"
     ]
    }
   ],
   "source": [
    "dataset = EncoderDataset(masked_text, train_text, tokenizer, 2000)\n",
    "sample = dataset.__getitem__(0)\n",
    "print(sample['attention_mask'].shape)\n",
    "print(sample['input_ids'].shape)\n",
    "print(sample['labels'].shape)"
   ]
  },
  {
   "cell_type": "code",
   "execution_count": 12,
   "metadata": {},
   "outputs": [
    {
     "name": "stdout",
     "output_type": "stream",
     "text": [
      "tensor([[39716,  7798,   882,  ...,     0,     0,     0],\n",
      "        [ 2969,  3448,  2506,  ...,     0,     0,     0]])\n",
      "tensor([[1, 1, 1,  ..., 0, 0, 0],\n",
      "        [1, 1, 1,  ..., 0, 0, 0]])\n",
      "tensor([[39716,  7798,   882,  ...,     0,     0,     0],\n",
      "        [ 2969,  3448,  2506,  ...,     0,     0,     0]])\n"
     ]
    }
   ],
   "source": [
    "from torch.utils.data import DataLoader, Dataset\n",
    "from transformers import BartConfig, BartModel, PreTrainedTokenizerFast\n",
    "from torch.optim import AdamW\n",
    "\n",
    "dataset = EncoderDataset(masked_text, train_text, tokenizer=tokenizer, max_len=2000)\n",
    "dataloader = DataLoader(dataset, batch_size=2, shuffle=True)\n",
    "\n",
    "batchiter = iter(dataloader)\n",
    "batch = next(batchiter)\n",
    "print(batch['input_ids'])\n",
    "print(batch['attention_mask'])\n",
    "print(batch['labels'])"
   ]
  },
  {
   "cell_type": "code",
   "execution_count": 13,
   "metadata": {},
   "outputs": [],
   "source": [
    "from transformers import BartModel\n",
    "# 1031\n",
    "config = BartConfig(\n",
    "    vocab_size=tokenizer.get_vocab_size(),\n",
    "    d_model=768,\n",
    "    encoder_layers=6,\n",
    "    encoder_attention_heads=8,\n",
    "    max_position_embeddings=2000\n",
    ")\n",
    "model = BartModel(config)\n",
    "device = torch.device(\"cuda\" if torch.cuda.is_available() else \"cpu\")\n"
   ]
  },
  {
   "cell_type": "code",
   "execution_count": 14,
   "metadata": {},
   "outputs": [
    {
     "name": "stdout",
     "output_type": "stream",
     "text": [
      "torch.Size([2, 2000])\n",
      "torch.Size([2, 2000])\n",
      "torch.Size([2, 2000])\n"
     ]
    }
   ],
   "source": [
    "batchiter = iter(dataloader)\n",
    "batch = next(batchiter)\n",
    "\n",
    "model.to(device)\n",
    "input_ids = batch['input_ids'].to(device)\n",
    "attention_mask = batch['attention_mask'].to(device)\n",
    "labels = batch['labels'].to(device)\n",
    "print(input_ids.shape)\n",
    "print(attention_mask.shape)\n",
    "print(labels.shape)"
   ]
  },
  {
   "cell_type": "code",
   "execution_count": 15,
   "metadata": {},
   "outputs": [
    {
     "name": "stdout",
     "output_type": "stream",
     "text": [
      "input_ids: tensor([[2077, 3622, 2719,  ...,    0,    0,    0],\n",
      "        [3512,    4, 2870,  ...,    0,    0,    0]])\n",
      "최대 토큰 ID: 44463\n",
      "모델 vocab_size: 50000\n"
     ]
    }
   ],
   "source": [
    "print(\"input_ids:\", batch['input_ids'])\n",
    "print(\"최대 토큰 ID:\", batch['input_ids'].max().item())\n",
    "print(\"모델 vocab_size:\", config.vocab_size)"
   ]
  },
  {
   "cell_type": "code",
   "execution_count": 16,
   "metadata": {},
   "outputs": [
    {
     "name": "stdout",
     "output_type": "stream",
     "text": [
      "torch.Size([2, 2000, 768])\n",
      "torch.Size([2, 2000, 50000])\n",
      "torch.Size([4000, 50000])\n",
      "torch.Size([4000])\n"
     ]
    }
   ],
   "source": [
    "import torch.nn as nn\n",
    "\n",
    "\n",
    "# 선형 레이어 추가\n",
    "vocab_size = tokenizer.get_vocab_size()  # 예시 vocab_size\n",
    "linear_layer = nn.Linear(768, vocab_size).to(device)\n",
    "\n",
    "# 모델 출력 후 변환\n",
    "\n",
    "outputs = model.encoder(input_ids=input_ids, attention_mask=attention_mask)\n",
    "logits = outputs.last_hidden_state  # torch.Size([2, 2000, 768])\n",
    "print(logits.shape)\n",
    "\n",
    "# 선형 변환을 통해 logits 크기 조정\n",
    "logits = linear_layer(logits)  # torch.Size([2, 2000, vocab_size])\n",
    "print(logits.shape)\n",
    "\n",
    "# 손실 계산을 위한 형태 변환\n",
    "logits = logits.view(-1, vocab_size)  # torch.Size([4000, vocab_size])\n",
    "print(logits.shape)\n",
    "labels = labels.view(-1)              # torch.Size([4000])\n",
    "print(labels.shape)\n"
   ]
  },
  {
   "cell_type": "code",
   "execution_count": 17,
   "metadata": {},
   "outputs": [],
   "source": [
    "# # 예시 텐서: (batch_size * max_length, vocab_size)\n",
    "# logits = torch.randn(4000, 50000)\n",
    "\n",
    "# # 1. 가장 높은 확률의 토큰 인덱스 추출\n",
    "# predicted_token_ids = torch.argmax(logits, dim=-1)  # torch.Size([4000])\n",
    "\n",
    "# # 2. 토크나이저로 텍스트 복원\n",
    "# # 예시 토크나이저: 커스텀 토크나이저 사용 가능\n",
    "# tokenizer = PreTrainedTokenizerFast.from_pretrained('gpt2')\n",
    "\n",
    "# # batch 크기와 시퀀스 길이 재구성\n",
    "# batch_size = 2\n",
    "# max_length = 2000\n",
    "# predicted_token_ids = predicted_token_ids.view(batch_size, max_length)\n",
    "\n",
    "# # 3. 토큰 인덱스를 텍스트로 변환\n",
    "# decoded_texts = tokenizer.batch_decode(predicted_token_ids, skip_special_tokens=True)\n",
    "\n",
    "# # 출력 확인\n",
    "# for i, text in enumerate(decoded_texts):\n",
    "#     print(f\"Decoded Text {i + 1}:\")\n",
    "#     print(text)\n",
    "#     print(\"-\" * 50)\n"
   ]
  },
  {
   "cell_type": "markdown",
   "metadata": {},
   "source": [
    "### to do list\n",
    "\n",
    "원본 텍스트 -> 내가정의한데이터셋 -> 바트모델 -> 선형모델 -> 손실함수 계산\n",
    "\n",
    "#### 모델 재정의\n",
    "바트모델 -> 선형모델 구조로 재정의하기."
   ]
  },
  {
   "cell_type": "code",
   "execution_count": null,
   "metadata": {},
   "outputs": [],
   "source": [
    "# 인코더 재정의\n",
    "import torch.nn as nn\n",
    "from transformers import BartModel, BartConfig\n",
    "\n",
    "class CustomBartModel(nn.Module):\n",
    "    def __init__(self, config, vocab_size):\n",
    "        super(CustomBartModel, self).__init__()\n",
    "        self.bart = BartModel(config)\n",
    "        self.output_layer = nn.Linear(config.d_model, vocab_size)  # 최종 출력 레이어 추가\n",
    "\n",
    "    def forward(self, input_ids, attention_mask):\n",
    "        outputs = self.bart.encoder(input_ids=input_ids, attention_mask=attention_mask)\n",
    "        logits = self.output_layer(outputs.last_hidden_state)  # torch.Size([batch_size, seq_len, vocab_size])\n",
    "        return logits\n",
    "\n",
    "\n",
    "# 모델 초기화\n",
    "config = BartConfig(vocab_size=tokenizer.get_vocab_size(), d_model=768, encoder_layers=6, encoder_attention_heads=8, max_position_embeddings=2000)\n",
    "model = CustomBartModel(config, vocab_size=tokenizer.get_vocab_size()).to(device)\n",
    "\n",
    "# 옵티마이저 정의\n",
    "optimizer = AdamW(model.parameters(), lr=5e-5)\n",
    "\n",
    "# 훈련 루프 예시\n",
    "for epoch in range(epochs):\n",
    "    model.train()\n",
    "    for batch in dataloader:\n",
    "        input_ids = batch['input_ids'].to(device)\n",
    "        attention_mask = batch['attention_mask'].to(device)\n",
    "        labels = batch['labels'].to(device)\n",
    "\n",
    "        # 순전파\n",
    "        logits = model(input_ids, attention_mask)\n",
    "\n",
    "        # 손실 계산\n",
    "        logits = logits.view(-1, logits.size(-1))\n",
    "        labels = labels.view(-1)\n",
    "        loss = criterion(logits, labels)\n",
    "\n",
    "        # 역전파 및 가중치 업데이트\n",
    "        optimizer.zero_grad()\n",
    "        loss.backward()\n",
    "        optimizer.step()\n",
    "\n",
    "    print(f\"Epoch {epoch + 1}, Loss: {loss.item()}\")\n"
   ]
  },
  {
   "cell_type": "markdown",
   "metadata": {},
   "source": [
    "## 결과확인"
   ]
  },
  {
   "cell_type": "code",
   "execution_count": 18,
   "metadata": {},
   "outputs": [
    {
     "name": "stdout",
     "output_type": "stream",
     "text": [
      "합닉따 옥촛 천홧 구런쥐 갔야오 캔 깐능 써피 퍼뉘 엊딘 합뉜따 뉴꾼 꿇눈 신껑 뜩썽 었씁뉘닺 악췸 샬먼 돋때쩨 퓌 걔슈 룔롬 뎄써 깃떼 측 단굘 일랴먼 탬뮨 숲뉘닷 갔숩님따 쑴 앉쿄 쓱갑 빗헤 쀼랖 욕씰 할룸 뻔운 까윕 떡 702효 빻로 냠몇 쥬뻔 묠레 앉항 702효 빻로 총루 했쑴 햐먼셔 랐눈 쥐냇 쩜문 베닯 실는 둘역 까윕 앉닒먼 뒈엶 베닯 욕씰 환뷸헤 딸랸 을로 엘설 쫍았 답뵤 빻로 실는 까윕 라꼬오 셔피 갹꺄어셔 까윕 갇따용 있엾 왓따 쿱뷔 또욕 맑숨 적긁 웍 좋앗움 횟 욕졸 맞셰오 페셔 위뿐 묽일 좋얄오 앍 끓로 겄토 한따먼 쭌댜 페졍 걋탸 좋앗움 쌈퓨 쵸흖 욕씰 꼿익 o 떼익 캅닐댜 1쉬깐 땅황 횟 꼿많 빻로 햐긷 있쑴 맛 잎풂 견쪼 빵무 좋공 총루 탄췌 쉽닒댜 라꼬오 혼 찐넬 웩께 갔두 륏캬략 땟중 쥑껀 만힙 쫏식됴 환뷸헤 욕씰 라꼬오 헤셥 좋았씁니따 터렵교 쒼설 횟 빵무 십였 휵긺를 뤼얻 슛 엷씸휘 계올 만힙 역깁 귀본 좋았씁니따 긋렇 옥촛 빠닭 총루 헷아 될교 씩크 6 라꼬오 넌뮤 밟켠 겄토 음룝 멓뮬 맞윗눈 겄토 베닯 빵무 껄뤽 얽를 빗헤 끓로 겄토 찐넬 약갼 끓로 쩜또 갛셩삐 잎뉘닫 멕쥬 닒담 뻘뤠 끄레 굵렴 빻로 엠많 떼익 펀얀학궤 할룽 눈눼 얌치 엠많 까윕 읊룔 돼얽 페졍 환뷸헤 라꼬오 구론 껴위 역김 씁뉘탁 언합눈 수윕 닭략교 좋숩님따 실는 끓로 뤼얻 틀롱 라꼬오 찜태됴 할룽 닌딸 듀곳 륄랏 라꼬오 슐련 총루 끼엿 쑥뺙 1쉬깐 찐넬 닌딸 닌딸 라꼬오 청톱 꽁싸 맏윈 꽂셰 쉭국 쟐묫 있골 섧요 똥홧 빵엑 휄쑤 구낭 쒸딱 냘랴 갖촉 맛 겆조 욕씰 좋앗움 터렵교 꼿익 까윕 긺랏 키량 샤쳔 햐씬눈 묫한는쥐 웍 앉낼 옰께오 총루 앉쿄 엊쪄 숩닉 꼿익 까윕 데퓌 땀베 까윕 높쥐 환뷸헤 헷아 예여 적긁 엔썽 라꼬오 냐빳 언는 두립 쥬뻔 잎뉘닫 뗄러 라꼬오 라꼬오 닌딸 듦엇 께욘 앉닒먼 실는 걋탸 딸위 퇴는 헷섬 캬눈 탐교 뮨웨 꼬쓴 뿐읾랴 좋얌오 라꼬오 록교 떼익 라꼬오 맛 쒸였 총루 터렵교 엠많 환뷸헤 눅킴 맛 좋야옥 빗헤 굣엠 펼한 엷씸휘 굵렴 걋탸 숟옇짱 옷레 잊쓺 쭝걱 럇쓱 까윕 윌단 있엾 잇따 어썲 쿱뷔 있엊셔 좋야옭 뻘롬 앉닒먼 룬눈 샀쟝닒 라꼬오 할룽 맞셰오 실는 실는 있엊셔 돼찌 는치 쥬뻔 눼눈 1얼 놓쁜 뵤넥 군떼 졉뿐 몽뜬 납왔 쥬뻔 샤눈 퓰갸 데충 낄레 뻘롬 퇴는 닉네오 까윕 페졍 닸움 밧닺 물뉘 끓로 한눈톄 껴치 까윕 쉭궤 학셍 몃쩌 맛 균욧 쉭궤 ̣ 까윕 만녜 뮨첼료 샀친 용학교 라꼬오 빗헤 옥촛 엠많 좋야옭 할룽 쉽닒댜 깝펩 찐젊핫쉬교 끄레 케눈 환뷸헤 윗곤 빗헤 렴옰 엽귄 릭코 옌오 갖죠 막 쉽닒댜 포머 있엊셔 췸쿤 논푼 빵무 뷔퓸 있엾 있엾 헷섬 헤셥 벙언 왓숩뉘댜 쉽닒댜 합뉘탕 펙캐 딛션 라꼬오 볶윈눈 엠많 놓콧 놓쁜 있여욤 좋야옭 ̣ 타뜻 동탬뮨 환뷸헤 잃 딱곪 얀움 라꼬오 얌치 먈골 1얼 청톱 옌오 꼿많 만힙 구론 슈먼 탁갔 환뷸헤 라꼬오 땄위 욕씰 앉닒먼 걺엇 쿱뷔 캘끝 휄쑤 까궤 옥촛 갗셩퓌 쉭궤 1얼 탐교 뭇얻 씨굘 윤엉 총루 라꼬오 묠레 쿱뷔 앉닒먼 퇴는 페졍 엷씸휘 5윈 뎁눈 할룽 뉘탓 엊쪄 셴오 터럽 숯료 췬철합 뻔운 근렇 까윕 베닯 엌킥 쉿타 윈침 떼익 엠많 있골 있엊셔 렁웠 2젊 닮움에 라꼬오 쉴냄 분낙 압욘 라꼬오 욘끔 닮움에 던떼 려윤 환뷸헤 환뷸헤 쉭의 찔를 몰랒 환뷸헤 퓌펙 꼰돎 캘끝 현쉴 어썲 ★★ 라꼬오 많쪽슬 쉽닒댜 있여욤 잇따 슈료 많촉 까둑 뻔운 !^^ 윕닒탸 2젊 앉닒먼 끓로 실는 휄쑤 베닯 닌냘 깡추 넵푸 편위교 끼엿 페졍 업써 슈먼 겊냠 데많초 쉭궤 페졍 휄쑤 옥촛 냠편 퓰갸 싣쓰템 옌오 라꼬오 확쨩싫 태됴 뉘 쫄쫄 델링 야웜 헷섬 땄틋 섕잃 쉽닒댜 실는 환뷸헤 쉭궤 댜둘 숙는 할룽 동걍 갔숩님따 터럽 굽빕 핫쎄욧 빗헤 썽빅 냠몇 쇼팥 긺랏 여투 굵렴 계올 뜩킹 윕닒탸 둘렁 닮움에 핫곤 깟선 딛션 쭈는 끄레 1등 까셔 욹카 꼰쎈 까윕 씨긔 락 라꼬오 뱉 환뷸헤 걷울 헷섬 고똥 뒈언 까윕 같음 윌란눈 꼬쓴 까윕 굳떼 뮈료 곪목 욕카 쪄움 원울 끝낵 쉭끊 췌킁 퐈 긺랏 헷아 맛 좋야옥 떡 여투 헷아 윌란눈 빵문핥 패먼 섕잃 횟 얀앗 빻로 실는 엷씸휘 총루 떠렁 쳔맣 숩닉 굴뤼교 컨치 넴옭 첵캬 귀쭌 뇰겨뤼 엷씸휘 룸밉 쑤낙 라꼬오 왕잎 냠쟉 환뷸헤 뀔랭 맡위 뻐난 헷섬 옥촛 갔탸오 실는 맛 받따까 뚤꽈 끄레 랴꼬욜 샌 눅킴 썬쁑 겅위 맑슴 뤼얻 끓로 계올 갓 꼿엑 냠쟉 돼닉꺄 좋얏뎐 엠많 뤼얻 쉼합뉘타 뒈얹 샀쟝닒 씩간 빨 쒜욕 얘얀 약갼 헷섬 탕오 낙카 뺙끄 아켱 깨윈 밗케 좋야옭 맛 총루 끓램 쉽닒댜 투한 뉘탓 낮웨 라꼬오 뉵까 같셩피 딛 욀료 많촉 객한떼 헷섬 라꼬오 할룽 뀄쥐 페셔 위헒 걺륀는 뒈뀄 핫곤 뻔운 엷씸휘 갓 뽀않 뻔운 사억 얽만 썬쀼 휄쑤 룝뷔웨 없써오 옌오 퓌펙 딛션 답궤 쉭궤 58 얄람 휄쑤 있엊셔 에또 쫍았 숟탄 좋앗움 는치 맛 뇰겨뤼 쇽됴 라꼬오 총루 뉘탓 뒈엶 닺쏘 베닯 총루 랒면 라꼬오 횟 빗헤 엠많 욘청 할쥐 까윕 밭탓 까윕 휄쑤 쥬뻔 겄토 깟셩삐 쉽뉘따 껌세 셔삐쓰 었씁뉠따 풋샨 데많초 라꼬오 냠몇 업써 낄랄 쉽닒댜 끼엿 뾰댜 까쨩 씨긔 동걍 납왔 쓿뤠 남온눈 잎풂 좋훈뎨 빻로 윈쌓 짱임 갓눼오 뽑억 라꼬오 두립 썽빅 륏는 끼엿 청톱 같셩피 갸땄 쒼네 라꼬오 같셩피 헷아 까윕 라꼬오 라꼬오 던떼 쉭궤 뮨읜 수윕 둘렁 맛 옷레 뗄러 철문 옥촛 찐젊핫쉬교 켁끝 욕씰 받탁 얾써 옹션퓨 잇녜오 페셔 귀갼 놓쁜 라꼬오 맞댜 쵸흖 갖셩피 쉬쨩 뉘 쒼네 쉭궤 있엊셔 페졍 적인 귑뷰 잎뉘닫 답뵤 릴한 뇰겨뤼 뒈엶 라꼬오 라꼬오 끓램 묵눼 엠많 는치 깝펩 켁끝 깝셩뷔 려윤 굶맵 욕졸 맞셰오 끓로 십녜옷 앉쿄 쉽닒댜 빻로 짱임 슁교 쭈는 능뀜 뒈엶 널뮤 쵸흖 빻로 뮨웨 적긁 긱캭 태됴 욧션부 햐쉬먼 댜둘 두립 쑤낙 ...! 받탁 듀곳 잦 씩끌렵 떼익 읽단 실는 퇴는 적긁 있여욤 환뷸헤 라꼬오 냠몇 끓로 웠욘 옰께오 엠많 엎움 라꼬오 라꼬오 깥치 뷔산 싻어 데삐 푸족 넴옭 수려 먀셰욕 교쉬 태됴 귀동 7쯩 깍키 슈료 라꼬오 뤼얻 라꼬오 빨쨩 헤셥 맛 갓 bbb 록교 라꼬오 려윤 실는 슉쇼윈 셍거 몰랒 냠몇 랴윅 욥픈 탐교 윕뉘답 뉘탓 뤼얻 쉬창 옛졍 뮤롭 션툐 캉쭈 욕졸 햐짊 햄윤 쒼설 까윕 까윕 귈눈 훼옹 섧요 뭇얻 륄략 옥촛 라꼬오 까윕 라꼬오 을로 쑤탸윌 청톱 환뷸헤 업여오 맞댜 낏쭌 꼰쎈 갓눼오 렛섬 귀쭌 묾녜 라꼬오 쭈는 닒담 록교 쏘움됴 환뷸헤 옥촛 쥬뻔 갔뜬 냠편 끓로 싣튕 까윕 맛 끼엿 야늑한 앉쿄 깍키 잊씁닒타 쎄런퇴교 빵문핥 횟 갖셩피 웍 옳랏 캭키 값쟉 같셩피 라꼬오 2뻔쩨 닐담 있엊셔 쉭궤 롱피 떼익 엾셔 밟켠 쵸흖 떼익 옐야 퇴는 라꼬오 깐눙 샹첨 몃찔 댜둘 믿췬 췸궁 빗헤 까윕 표탔 윌엄 우롯 냘쉭 쓿려윤 꼰쎈 까궤 샤눈 훨신 싶운 꿀롱 윕뉘답 쩐쳬 라꼬오 윕불 까눈 뒈엶 수윕 괭쟝 옥촛 역깁 헤셥 빚수 카격 쿱뷔 껴위 옌오 앉쿄 막샹 쓱갑 뒈엶 랒면 끄레 끄레 깟선 념궤 헷섬 늡뀜 삿용 떡 긱캭 옥촛 있엾 삼쟝닒 톡깟 꼰쎈 실는 몲쏘 있엾 옥졸 욕씰 꼭큽 끼엿 려윤 췸뎁 헷아 맛 2뼝 머크 빗헤 묠레 환뷸헤 총루 갖셩피 페졍 닮움에 툭윈 긺랏 24쉬 702효 싫냇 끓로 뿐읾랴 키량 약갼 찌햐 뉘탓 환뷸헤 업써 실는 찐넬 윕뉘답 쇼팥 널뮤 까윕 환뷸헤 옌오 꺅컥 데많초 씨굘 라꼬오 앍러 옆였 빗헤 잎풂 했여요 탄췌 표단 몽뜬 땀베 실는 까윕 섕간 젼푸 헷섬 끄레 빵문핥 빻로 윤젼 좋았씁니따 총루 겄토 맛 없써오 까윕 꼰쎈 귁곗쉭 앉쿄 좋훈뎨 냠몇 빻로 떼익 환뷸헤 웝섭 까윕 슉쇼윈 낢위 똥활 옥촛 꼿익 라꼬오 두립 있쑴 끼엿 륀뎨 까윕 앉뉨 연흄 켠띠 뎁빎 귓타 환뷸헤 얽만 따뤼 핫곤 착얏 붙텄 꼿익 먈골 룸밉 섕잃 셩쑤억 좋꼰 캘끝 옥촛 따뤼 옛욤 얽만 쿠를 및얾 엊쪄 까윕 라꼬오 꼿익 짱임 빨쨩 예쩐 씨낄 맛 까윕 찌햐 끼엿 휵긺를 군덴 좋았씁니따 익벋 역깁 수윕 때쭝 환뷸헤 뻔운 뙤코 위옹했 환뷸헤 페셔 먈골 빗헤 았뉠 겅우 ;;; 년뭉 끄레 빳는 꼿많 있엊셔 엠많 딛션 페졍 계올 돎라 얕윳 썬는 받탁 뿐읾랴 실는 라꼬오 갓눼오 탐교 까윕 뻘뤠 환뷸헤 닻쉭 엷씸휘 맛 2팍 옇월 엎였 갖셩피 깍키 릴럇 적긁 귑뷰 휄쑤 엠많 엠셔 끄레 갖셩피 빻욺 갖셩피 엠많 엘설 엠많 쩌캬 꼰쎈 옥촛 페졍 쭌댜 냐프 빵무 닌딸 푼한 뭬닢 옥촛 뱌쿼 렷타 합님따 꾄찮훈 앝뉜 벨렴 깥집 구렇케 짊 윳쓰 추짜 옰께오 움쉭 트륀 엠많 런취 쉭궤 쭌댜 댜꼬 맛 윅얻 밉뉘타 빳료 싸잊 옰께오 쭈는 계올 찔를 밸러 라꼬오 뮬있 있여욤 펀얀학궤 있여욤 뮨냔한 계올 헤셥 콰학 따뤼 끓로 좋야옭 약갼 굣순 쪼식 뻘뤠 닮움에 뗄러 라꼬오 뜰을 팡문할 맏야 짱임 읽라 깖쥐 객쉴예 켠뒷선또 뤼얻 실는 라꼬오 틀렀 엠많 깐는 균욧 까윕 악켱울 릴한 랖뉘 샹쟝닒 았뉠 멸취 췸쿤 답뵤 뮨첼료 끗련 끼엿 겄토 네오 한찌 탸싱 끓로 뤼얻 한댜는 좋앗오 걺엇 뺍 톡깟 뻔운 뻤셔 샤눈 맛 읽라 얽만 남써 여투 라꼬오 __ 엄옮 환뷸헤 돼닉꺄 라꼬오 엔썽 까웨 구렇케 퓨걀 라꼬오 쉽닒댜 옥촛 섶삐쓰 까윕 얽만 환뷸헤 계올 없끄 딱곪 핫곤 옌오 엎셧 라꼬오 라꼬오 깥성 옆였 냠몇 쉬펏 뤼얻 좋았씁니따 섧요 퇴는 라꼬오 잚물 란유 실는 좋았씁니따 있쑴 숲닢 뻔운 까윕 앉닒먼 58 야늑한 페졍 텔로 몃쩌 끄레 웍 햄돋 굣엠 록교 끓렛 갔있 붙텄 69 쟐묫 꼭큽 밭타 2팍 켠딪선 갚닐댜 까윕 라꼬오 빳는 뻔운 환뷸헤 겄토 라꼬오 총루 받탁 할룽 탐교 빨쨩 좋앗움 짜를 퇴얻 웍 씨굘 캘끝 벎또 빨쨩 륏는 깖쥐 페졍 멍클 샀쟝닒 쉿타 던떼 좋앗습뉘 햐얹 맛 까윕 씁뉘탕 뮨첼료 찔를 랒면 환뷸헤 닮움에 만쪽 켠띠션 라꼬오 잇녜오 콸꽐 한찌 뎌락교오 곪목 냠몇 랴윅 찐넬 실는 씨긔 엷씸휘 페졍 죠햐 옥촛 긱캭 꼿됴 꿜 듀곳 쩍윅 휄쑤 켠띠션 또욕 쩡솎 원울 눋켸 좋야옥 퍼뉩 뻘뤠 할룸 켠띠션 쟐묫 엠많 빨쨩 라꼬오 젭빵뮨 갓 총루 씬쿄 식카 룔롱 닌냘 엠셔 꾸낭 좋앗움 엠많 환뷸헤 귑뷰 셍거 찢만 라꼬오 교쌩 퇴는 빳는 있엾 데한 뒈엶 옥끎 졉뿐 휄쑤 환뷸헤 쉭궤 갸땄 간딴 봔됴 빻로 싸창닒 엣셥 땅황 꿀릭교 맛 꼿많 싣쓰뗌 맏윈 환뷸헤 봔용 빵엑 칫툐 라꼬오 싸창닒 잚물 청쏢 엎윈 있엾 실는 졉뿐 환뷸헤 벅먼 쉬껴 빵무 샀쟝닒 깖쥐 총루 헤셥 총루 코씹 빗헤 밟켠 쁠로 헷아 계올 잎닙따 악켱울 옰께오 선오 놓쁜 량운 둘엷 페졍 썹옷 라꼬오 릴야 밂췬 끄레 욘됴 맛 끌럼 쉽뉘따 롤 깟셩삐 묵눼 쫏썬 퇴는 같셩피 받답 근낳 얘얗 씰첼 휵긺를 갖죠 냠몇 싫냇 뮬있 켠띠션 횟 깖만 역깁 삣숫한 왕잎 될교 셔용 라꼬오 븃틀 댜니 풂 왕잎 쵸흖 뱐쭘 횟 까윕 목 뽐면 먈골 깡냠 딛션 쉽닒댜 빗헤 막 섧요 푼한 객쉴예 뤼얻 몃쩌 씩간 뮬룝 엊떤 좋앗움 굴룝 쉭궤 zzzz 엠많 락 윕취또 어썲 터렵교 실는 맑코 실는 핫쎄욧 끓로 충은 엠셔 뻘뤠 헷쑨 끄레 숟통 끄레 페졍 깐는 맛 좋야옥 학셍 데많초 빵문핥 쟐묫 빤맺 댜욺 끄레 빗헤 실는 환뷸헤 여투 갰 헷섬 짱임 윈갸오 딱카 엎연 라꼬오 참믈 헤셥 샌 라꼬오 계올 퓰량 라꼬오 업써 있엊셔 찐넬 데많초 캅닐댜 뤼얻 격교 속쪼 휄쑤 씨썲위 빵무 있엊셔 헷섬 욕씰 맛 쿱뷔 졉뿐 휄쑤 잎닙 2뻔쩨 끓로 욘청 찜태됴 얘악헷써 잇녜오 효뗄웨 술껀 방운 휄쑤 옜썸 눈눼 뇰겨뤼 꼰쎈 꼿익 쪼식 씨긔 헷섬 덱쿄 꼰쎈 쥬뻔 레된 쳔먕 계올 까윕 윌풂 끄레 탸읾 까윕 있여욤 총루 약읨 끄레 싻어 쀼랖 펀얀학궤 먈골 썽예 라꼬오 갼쉰 수윕 뻘롬 겆조 록교 끄레 걍낢 좋얌오 억신 엠많 잇따 같셩피 헤돈 옥졸 총루 환뷸헤 5 냔뉘 깥써 류쁘 받탁 베닯 샹갸 익엿 췸땍 륏륨운 총루 좋야옭 실는 끓로 라꼬오 읽랒 갔운 쀼돋 엊쪄 음씨 먹긁 듬 좋야옥 까윕 뤼얻 라꼬오 라꼬오 낙꽁 김뵨 있엊셔 앉쉽 붇산 진낟 떼익 트륀 꼰쎈 실는 염멨 현째 까윕 쭝싫 훨신 라꼬오 갖셩피 퉤 돼닉꺄 갖셩피 얏쉽 곳눈 좋앉오 실는 헤셥 헷섬 캘끝 쉭곧 온타 종씩 받탁 떨를 엉엎 온타 햇찜만 까윕 실는 엷씸휘 데퓌 넴옭 끓로 태됴 깔꿈학꼬 햄돋 끄레 빵무 쉬껴 좋야옭 쉭궤 윌단 환뷸헤 옌오 갓 던떼 햐엿 2뼝 라꼬오 청톱 거귀 케써 냐알 얘악헷써 까윕 데많초 약갼 퇴는 뮤롭 쉭궤 섧요 표뜨 록교 라꼬오 까윕 켁끝 쉰쮸 표탔 씨긔 블 웅때 환뷸헤 쒸는 얻떻께 두립 읾용 환뷸헤 귁곗쉭 빳는 좋았씁니따 샀쟝닒 긺랏 윅 까윕 눼눈 샀쟝닒 합찌 BB 환뷸헤 탐교 촉껀 ㅉ 빵문핥 페윈 몃쩌 끄레 닮움에 환뷸헤 약갼 왓숩뉘댜 할룽 페졍 뽀않 실는 쟐묫 있엊셔 라꼬오 후예 라꼬오 빻로 빵무 히 냠몇 끄레 근렇 뮨첼료 겄토 쉬쨩 빻로 겄토 옷레 맞잚 끓로 같셩피 륏는 좋앗오 얄코 윌단 냠몇 갛는 맸윷 굶맵 닌딸 까윕 웅때 뒈숙 쉭궤 있엊셔 춥 헤셥 갼따 있엊셔 뉘땁 짱임 먈뤼 먈골 엷씸휘 앉쿄 냠몇 환뷸헤 환뷸헤 놉 리교 엿숲뉘따 뺍 먈골 있엊셔 빳는 랖윤 까윕 헤옭 닮빽 라꼬오 라꼬오 없끄 떡 쉭궤 청톱 깝펩 좋넥오 욕씰 겄토 핫쉭코 할룽 곌단 헷아 닌딸 꼬쓴 윕취또 훨신 터럽 찔를 묽겄또 빵무 엾셔 숙는 빨쨩 있엾 인쓺 탐교 라꼬오 야늑한 둘엷 겄토 라꼬오 욕씰 쉬쨩 맏야 닌딸 까윕 먈골 콸꽐 헤셥 까윕 쉽닒댜 까윕 닉네오 앉닒먼 터럽 맏은 엣썹 뤼얻 실는 던떼 헷섬 빵문핥 헷섬 베닯 옰께오 떡뷴 맞찝 옥촛 싸친 깖쥐 좋숩닙댜 댜씬눈 떨락 붕강 얌뜬 홍텔위 별젊 딴녀욘 뽀곳 굳썩 의싹 야깃 까룰 줏섯 잊은 효뗄웨 앓교 꿀챰 빠퀴 합니타 풂토 햇쥠많 섶뷔쓰 빗헤 넋녘 쉽닒댜 벼픈 쫍꾜 뭬인 펀얀학궤 빵윈 쯩읊료 퐈 힁 쀼랖 욕씰 틂를 략골 렁웠 끄롭 찹았 뤼뷸를 옐릭 꾸낭 묠레 넙뭄 찡 꼿신 총루 겄토 업써 먀윤뛴 데충 있골 룬눈 실는 슈먼 욘끔 빤읾 윈갸오 쥬뻔 없끄 끝판왕 쇼팥 뿐뜰됴 같셩피 굶맵 맛 빻로 맛 베닯 있엾 유코 엽귄 실는 잎뉘닫 섕간 켁끝 쉬껴 뽁씬 유코 휄쑤 웍 램또 닌딸 거귀 수눈 구렇케 췬철합 던떼 헷아 계올 맹 할룸 넷쁠 받탁 및얾 좋숩님따 우멧 끓로 환뷸헤 욕씰 4케 퓨걀 캬셩 캅닐댜 탄눼오 몲투 옐야 때로 데학 각꺄 옇월 씩끄 윕뉘닺 섧요 껀딧선 라꼬오 셩쑤억 탄췌 떠찍 껀눌 춘쩐 찐넬 함어 앝췸 쫄쫄 엠많 싫네또 맛 퇴얻 할룽 딸위 라꼬오 엽귄 실는 터렵교 쒼설 데많초 청톱 십였 쟐묫 뤼얻 맛 엷씸휘 먈골 엾숩님타 극계 베닯 햐꼿 (+ 업써 빵무 닒위 뿐두린 뚤은 씩크 년뭉 라꼬오 목 밟켠 뉠단 빅 낮웨 맞윗눈 욜랬 묽겄또 까윕 뤼얻 찔를 여옰 끓로 여옰 온선 뻔운 칙계 끼엿 렷타 꼬쓴 멕쥬 먹옆 근냥 괸쨘훈 인삐 편릭 쥑한 뷴울 윙쮜 할룽 묽뇰 옛청 겄토 까윕 낄레 라꼬오 습뉘닸 환뷸헤 환뷸헤 끓로 좋항오 꼬쓴 글련쥐 왐윕 적긁 맏잊썼 라꼬오 숲닙댜 끓로 뤼얻 팍뀌 라꼬오 묽겄또 펀헤오 맛 웝뉨 던떼 현째 됫여 욧션부 끼엿 있엾 썸욤 라꼬오 까윕 윌햅 라꼬오 청톱 받탁 닮움에 구롯 쉭국 랴윕 뭬닢 섧요 맛 휄쑤 헷섬 던떼 헷섬 김뵨 룝케 볼료 태됴 둘엷 같셩피 라꼬오 왐윈 좋야옭 꽤한 껍픽 뮨웨 욕씰 윗섟 웍 업써 섧요 탈랸 앉쿄 랴위 숩닉 태됴 엷씸휘 홋텔은 얏쉽 곳눈 (+ 휄쑤 라꼬오 인삐 괭쟝 는뒝 샀쟝닒 쉬뉘 끼엿 뿐읾랴 맛 쑤옇창 윌럇 야웜 꼬쓴 헷아 뽄윈 높쥐 엠써 할룽 엷씸휘 꽤한 맛답 헷섬 는치 탐교 몰랒 꼬쓴 탐교 초옹 엶렀 록교 샀쟝닒 캄먼 플륨 렁웠 풋싼 쉽닒댜 엔썽 환뷸헤 갸땄 쉭궤 엘뤼 빚수 라꼬오 뵤굔 엷씸휘 실는 셥퓌 동판 있쑴 닥골 푼한 켁끝 투뤼 또욕 끓로 숲뉘닺 벼픈 갇졉 있엾 뿐읾랴 쉴울 쫏썬 켠띠션 헷아 라꼬오 환뷸헤 뤼얻 실는 실는 좋앗움 악켱울 뉘 실는 눼눈 환뷸헤 끼엿 붉를 맛 셩쑤억 펼를 씩을로 컹 벡깨 맛 켠딪선 섧요 끼엿 쭈는 합찌 까윕 떠찍 벡깨 땍카 많쪽슬 좋앗오 뒈또 옌오 빻로 있엾 겄토 얀냄 맛 맛 캘끝 잚물 늡뀜 컹 쎈턺 및 헷아 라꼬오 없써오 옥촛 엠많 태됴 환뷸헤 잎닙 잎닙 탕오 깖쥐 귈눈 락 맛답 동탬뮨 끗련 엽귄 옘약 푼한 옥졸 만힙 떼익 뾰댜 옹씨먼 꼬쓴 겄토 받탁 수눈 뀌엣 얽만 야웜 까윕 뷴울 먈골 및얾 릭였 뻐난 빻로 라꼬오 앉쿄 히 놓콧 핫쎄욧 있여욤 잎닙 있엾 업써 쌀람 얀닙 려윤 정됴 뷜숫한 붙텄 옐야 숯료 윕닒탸 쳬 좋햐욥 뤼얻 묵얻뎐 끓로 넷용 따닒 턴치 라꼬오 땄위 트륀 헷아 잊쓺 수윕 럿눈뒈 잚물 듦엇 첵읾 쫏션 닮움에 빵쉭 있엾 종씩 챠위 끝낮 낍 읾련 페졍 맛 쎄런퇴교 퇴는 잇따 왑됴 힁 쉭끊 라꼬오 숙는 씨수뗌 빗헤 막 샀쟝닒 빵문핥 맞댜 윙쮜 록교 굵렴 낙꽁 엘설 이서셔 환뷸헤 옅섯 깟셩삐 홉컁쓰 엡됴 따른 휄쑤 라꼬오 뜻합뉘탸 혹컁쓰 압욘 켁끝 넷용 빻로 까셔 ̣ 실는 환뷸헤 까셔 헷섬 캘끝 휄쑤 욧교 끄레 뒈엶 꺄쮜 뤼얻 욕졸 라꼬오 췸궂 욘타면 뻘뤠 묘킷 T 라꼬오 끼엿 속쪼 닮벰 웬만한 2젊 끼엿 곳눈 쉭국 라꼬오 있골 닌냘 덛턱 락굘 편위교 얘얀 빵무 라꼬오 윤엉 겊냠 눌롭 뇨읊 처넋 욜랬 에또 뤼얻 윙쮜 샤잎 빛쓰 라꼬오 록교 슈료 햄돋 섧요 라꼬오 끓로 핥꼬 빛쭈쳔 섕잃 껙끗학코 베닯 젼푸 태됴 류쁘 펀위졈 썸욤 합님 찐졀학꼬 갓눼오 빵무 청톱 쪄움 썽빅 냠몇 짱임 꺄쮜 탐교 룸만 계올 낮웨 윕닒탸 둘렁 닮움에 빻로 씁닒댜 좋앗움 끓로 낮웨 끓로 확윈핸 뒈엶 뤼얻 빗헤 환뷸헤 뻐난 옐야 갓눼오 욀료 윌단 약갼 69 히 놀댜 뉠단 먹긁 닌딸 좋앗움 곌단 몽뜬 있엾 웬만한 밧닺 볼따 쉭궤 끼엿 터럽 실는 횟 엎길 밞로 싸쟝 롤뷔 악켱울 컹 맛 욕씰 듦엇 섕잃 꼬쓴 엠많 터렵교 2충 베닯 캘끝 떠렁 눼올 철때 끓로 라꼬오 실는 하께 퓰위 좋앗습뉘 엷씸휘 찢만 삼쟝닒 라꼬오 까윕 냠쟉 습퍄 맛 윤젼 뻤셔 엎텬 끄레 검의 쥬뻔 돼닉꺄 깖쥐 빵쉭 헤셥 쉭궤 갖셩피 쥐냇 요곳 99 맑슴 넷용 친넸 끄레 갓 웝뉨 답뵤 한따먼 안는 엠많 켠은 였뎐 베닯 샀쟝닒 있쑴 챠위 4뻔쩨 면쪄 약갼 라꼬오 싸친 잇코 떼익 아켱 뾰댜 엾꼲 쩡쇼를 껀딧선 걍낢 계올 첵읾 놓쁜 엠써 낮웨 뻔운 구오 궤씨 옳라 끼엿 빵무 한찌 됩뉩댜 있엊셔 깥양오 욀료 엷씸휘 여투 빵무 뤼얻 낙싼 욀료 옌오 첵끗 햇섭 륏캬략 ㅡ 섧요 왕잎 동탬뮨 고오 뻘욧 업써 어썽오 여옰 페졍 압윙 겟짊만 엔썽 수눈 눌루 섧요 맒엡 환뷸헤 려윤 빵무 라꼬오 꼬쓴 총루 걺륀는 쌩켯 실는 까윕 빗헤 셔빚 휄쑤 끓로 복쯩 횟 실는 캘끝 괜쨘훈 헷섬 봤교 낙까 까윕 업써 댜욺 려면 업써 터렵교 같셩피 잎닙 뱌메 뤼얻 OT 라꼬오 정됴 당쒸 쟘깐 왓숩뉘댜 얀냄 왓씁뉘댜 베닯 계올 뀨욥 뻐난 뤼얻 맞셰오 광않 켠딪선 빻로 쫌멍 횟 탭피 떼익 싸진 햐닢 헷섬 뭬닢 셥퓌 빵무 뤼얻 (+ 윈쌓 여옰 검의 헷아 까윕 환뷸헤 욕씰 총루 업써 청톱 욕씰 쳔맣 뒈엶 중챠 랒면 씩끌렵 씨긔 탭피 딱곪 환뷸헤 받탁 겄토 뤼얻 잇녜오 뮨은 쿨룰 숲뉜댜 라꼬오 쑤쥰 얀닙 격교 관뤽갸 라꼬오 받탁 환뷸헤 있엊셔 페졍 멀린 꼰쎈 셔울 및 뀌웰 숩닉 펼를 럿턴 죠옹 깖쥐 첵끄야웃 받튼 찌햐 라꼬오 려윤 맑슴 려윤 끓로 왑됴 맞셰오 끓로 옌오 쒸는 엷씸휘 윌인 뾰댜 닉콩 졉뿐 뎁빎 왓따 잊눈떼 쵸흖 한폭 쉭궤 닿함 맛답 태됴 온선 는치 환뷸헤 쉼합뉘타 쑤낙 여투 얌왜 윕닢따 헤셥 쫏썬 붉꽤한 읽단 켠딪선 욕씰 셩쑤억 8효 환뷸헤 라꼬오 엠많 철문 렷타 낄레 1얼 야늑한 라꼬오 라꼬오 뤼얻 좋앗움 있셔셔 페졍 있쑴 닫실 챵닒 짭뷔 꼭때 태됴 끄레 뷴꿱 램삥 핫쎄욧 콴는 숀 끓로 콧토 끗련 맛 쉭궤 던떼 2뷴 둥울 겄토 얾오 딸위 밞롓 몰랒 갔운 윌럇 잊수 맛 찔를 까옴 짱임 헷섬 빳는 욕씰 업써 찔를 욕씰 싸눼 욕씰 까두 쩜문 현째 있골 현창 읽라 닮벰 던떼 옐야 끓로 쉰분 원많 라꼬오 끝판왕 읽단 있엊셔 라꼬오 딛션 끓로 엷씸휘 얘얀 쫏씩됴 귀쭌 1얼 까셔 떠렁 퓰됴 는치 약갼 환뷸헤 헷섬 태됴 굶런 페졍 있엾 한찌 슈먼 옛청 찐넬 뮬있 둘만 꺄윤 겄토 방우론 맛 랒면 뒈언 웍 뮤립 까윕 짙만 낮웨 얏쉽 끼엿 웅한는 할룽 싫냇 까눈떼 떼익 헷아 찔를 닉수 까윕 횟 환뷸헤 탐교 셥퓌 동판 옥졸 없써오 슈먼 있여욤 약갼 환뷸헤 얾멥 씨긔 곪목 눈눼 숙는 욕씰 삵짝 라꼬오 쉽닒댜 욕씰 꿀롱 끓로 랴꼬욜 데충 같셩피 돼찌 갔숩님따 옥졸 쌩톤 옥촛 역깁 헤셥 옥졸 옥졸 뤼얻 좋앗움 뇰겨뤼 얍쮸 쉬껴 찜태됴 윌췻 헷섬 학셍 듦엇 실는 쟝휘 륏는 몃쩌 헷꼬 햐씬눈 긱캭 옥촛 어킨 낄레 랴꼬욜 칼쿰학코 빵무 헷섬 받탁 옥졸 쎈턺 예툐 쉭국 있엾 끄레 랴꼬욜 뵤딴 깟셩삐 있골 맛 헤셥 같셩피 총루 휄쑤 페졍 깠숩닢 멀린 슉쏜 윌단 슈료 싫냇 끓로 묽겄또 할룽 엠셔 받탁 라꼬오 쉭궤 업써 쩡맑 는치 온쑥갸 돼닉꺄 찐넬 뱌쿼 탄췌 옌오 같셩피 쪄움 엽귄 슈먼 앍러 꼰쎈 녠오 요쩡 뤼초투 깍취 숲뉜따 몽뜬 윌단 뤼얻 벡깨 쎄런퇴교 쉽닒댜 께윅 깍키 윙쮜 빚수 얕놂짜 쪄음 총루 맛운 냠짭 닮움에 립퍼 라꼬오 업써 터럽 옌오 갓는뒈 켠은 할룽 없끄 빗헤 만죡합뉘댜 쉭궤 뤼얻 좋앗움 교오 청톱 맛 뵤익코 좋앗움 얀냄 덱쿄 쉭궤 윈끼 캘끝 맒엡 윌단 있엾 록교 있엾 렷타 했얽오 빗헤 던떼 갓눼오 냅꼬 맞셰오 섕잃 라꼬오 헷섬 찔를 맛 계올 맒슴 벎례 틀읊 꽤한 던떼 캘끝 휄쑤 헷섬 실는 술캬 렸웠 옰께오 씨썰토 탭피 벡깨 덥 15뷴 쉰뎨 뭬닢 끄레 있엾 뭬닢 얽를 꼬쓴 숲뉜댜 뙤코 좋숩님따 뒈염 옥졸 옛섬 샴썽 둘렁 실는 쉬쨩 콥 리교 빳는 같셩피 중챠 랴꼬욜 연흄 뤼얻 떠렁 봄타 쎌풉 맞셰오 받탁 뿐읾랴 끝판왕 안는 억귐 계올 까윕 휄쑤 확윈핸 샤쟝뉨또 편학퀘 쉬깐 욀료 빛쭈쳔 쉭궤 팡문학교 깍키 윕굻 낡눈 습닐탸 갓 췸굽 숟탄 검의 윈갸오 욕씰 헷섬 핫쒼는 휄쑤 겄토 쑤탸윌 넷용 둘엷 씻써뤼 듬 섧요 빵무 밀랴 탐교 뭬닢 확윈핸 답뉘댜 쑤룝 핫슉꾸 눌롭 꼬쓴 2뼝 뮤롄 뉘땁 뮬있 윳쓰 얹늚 찔를 빵무 트륀 데많초 런취 약갼 쭌댜 좋야써 현째 슭랴 십였 쉽닒댜 쫄쫄 뿌또 괭쟝 는치 휵긺를 라꼬오 좋항오 얽를 컷씨 뻐난 몽뜬 뤼얻 있엾 헷섬 쎄런퇴교 헷섬 션툐 궂레또 먀윤뛴 욕씰 뷴울 끓로 받답 빚찌 라꼬오 듦런 환뷸헤 뤼얻 겄토 퓨까 김뵨 실는 휄쑤 실는 샹갸 좋앗오 햐엿 껴치 깐는 할룸 할룽 엷씸휘 페졍 닫우 샹쟝닒 쉬창 중챠 쀼돋 라입 굴뤼교 끗련 찐젊핫셧 샨쏙 먈골 귑뷰 쳔맣 빨쨩 뤼얻 옌오 갓눼오 잎뉘닫 꾸뤼 랴위 휵긺를 록교 잚물 계올 굽빕 윈쌓 실는 헷꼬 똔읽 휄쑤 끓로 깎격 욜럭 옥졸 안는 빵문핥 엷씸휘 퓨걀 삶썽 옳랜많웨 뻔운 빚수 실는 헷아 찔를 야늑한 빳는 둘엷 엽봇 찔를 뮨늚 빨쨩 슈료 뮐림 읽랍 팍뀌 뤼얻 뷔펜는 객둘 만죡합뉘댜 퇴는 윙췬눈 끓로 숩닉 빗헤 탐교 잚물 쭈윤 좋얏뎐 까윕 닉네오 염맛 갓눼오 옙푸 텔로 숭옇창 실는 까윕 업써 없끄 류쁘 끓렛 췸규루 웍닒 빳는 뎁빎 던떼 신츄 갓 중챠 깐단한 빵무 까윕 욕씰 탐교 환뷸헤 갓눼오 · 총루 요쥘 할룽 랴윅 끓로 좋앗움 끓로 괜찬움 많낭 끼엿 실는 밑염 축코 켠띠 럽코 2횐 라꼬오 샀쟝닒 히 쥬찾쟝 욕씰 있쑴 맛 랒면 햐긷 막 없끄 캘끝 꾸낭 않앉 냐옮 청톱 옥졸 갖셩피 랴윅 갸땄 뎌락교오 췬난 겨옘 끓로 씩끌렵 온돌 씨긔 엷씸휘 라꼬오 환뷸헤 끓로 환뷸헤 만힙 얽만 듀곳 끓로 겄토 옥촛 치학 찐넬 닌딸 있엾 랒면 갓 칡를 떼익 먹옆 맒엡 한폭 빨쨩 닌딸 젭빵뮨 헷섬 븝 헷쑨 끗련 끄레 왜관 실는 냔뉘 좋앗움 끓램 안는 귑뷰 셍거 환뷸헤 욧교 던떼 쬐쿄 럇면 샴썽 뭬닢 켰툰 걍럭 졉뿐 퉤뤼 환뷸헤 휄쑤 갛셩삐 간딴 겄토 계올 끼룰 빵잎 걋넴오 꿀릭교 맛 섣섰 할룽 여륀 굣엠 분뤼 씨긔 묫 라꼬오 라꼬오 셥퓌 릴랒 우막 같셩피 쭌댜 휄쑤 듦엇 벅먼 향 빵무 샀쟝닒 계올 헤삐 햐꼴 욀료 뤼얻 냠몇 봤코 빵무 엽귄 검의 빵엑 악켱울 까눈떼 계올 한찌 얀냉 둘엷 헷섬 먈골 라꼬오 빳는 너 끄레 닌딸 맛 맒굔눈 너쪄 냠짭 땀툿 낙꽁 업써 총루 랴꼬욜 얻욥 있엾 샹갸 묽겄또 빻로 좋숩님따 까쨩 둥에 야치 햐곪 펀얀학궤 켠띠션 역깁 삣숫한 쉭궤 휄쑤 뾰댜 라꼬오 뷴인 롱피 라꼬오 쪄움 압욘 쭈맑 현째 뤼얻 맛 켠띠션 먈골 겄토 딛션 관운 뉘탓 쒼설 빵무 닮움에 꼭때 쉭궤 꼿엑 맛 짚 팍뀌 쩝꾼 탐교 lo 좋앗습뉘 웍 맏윈 릭였 까윕 (+ 뾰댜 맑코 뉠단 댜눈 끓로 썲용 맒교 갛셩삐 횟 31 멂쩡 쩌캬 탈랸 깐는 쉭궤 온타 팡문할 데많초 1쉬깐 할룽 맞셰오 휄쑤 윈틉 터럽 실는 끼엿 터럽 라꼬오 환뷸헤 쉭궤 욕씰 칡를 헤쭌 라꼬오 구렴 떼익 함려 뒈엶 류쁘 4뻔쩨 라꼬오 둘역 만힙 찌햐 데많초 랐눈 옌오 꼬쓴 좆쉭운 뤼묘 인삐 빵무 쉽닒댜 빻로 려면 슬룰 많낭 갖셔 청톱 햇욺 랸타 끓로 쉭궤 찜태됴 씁위 굵렴 옌오 넒쁜 방운 얽를 빻로 꾹궤 뻤셔 왓씁뉘댜 꼿익 쇼팥 성빛 헷섬 라꼬오 념찌 까윕 2얾 묽렵 2뼝 라꼬오 702효 끄레 맒엡 횟 할룽 덱쿄 둑교 쳬 4뻔쩨 땋황 이서셔 끓로 떼익 라꼬오 할룽 14쯩 라꼬오 습닐탸 떼익 있골 던떼 깃떼 납팔 크뤽꼬 룸만 같셩피 삵먼써 잊씁닒타 넷용 욜럭 뻔운 핫쎄욧 야웜 뚜윤 많쿰 총루 넷용 윈폿 데많초 신츄 받탁 뤼얻 씨긔 걍럭 있쑴 옥졸 ㅅㅎ 같셩피 려윤 T 한따먼 2젊 얀닙 끓로 찔를 라꼬오 텍꾜 덛턱 환뷸헤 뤼얻 델링 라꼬오 갰 묠룰 컹 꺄걱 실는 맛 엷씸휘 위꼿 류뭬 구삐 헷섬 끼엿 맞셰오 듈렵 엷씸휘 뿐읾랴 빳는 쑤낙 같셩피 얏쉰윤 닮팩 넷쁠 장운 떼익 종씩 묘릎 짬꼬 엾끼 진낟 라꼬오 까윕 터렵교 얀냉 푸텃 넴옭 끓로 샀쟝닒 터렵교 휄쑤 뷘는 욕씰 포탸 맞셰오 쳔맣 함교 냔방위 실는 갓 던떼 랴위 이쁜 빵쏭 좋앗오 옌옷 떼익 닮를 슈먼 터럽 걺륀는 할룽 욕씰 트륀 쵸흖 섧요 쉬펏 놓쁜 뺍 까윕 옷레 렁웠 학셍 맛 라꼬오 씁뉨 쉭궤 청쏢 뷰닙 할룽 됴눌 관뤽갸 려면 끓로 맛 데많초 앉닒먼 먹긁 윌략코 뜻합뉘탸 줏쨔 씨굘 꾼쪄 환뷸헤 녁 얾멥 옥촛 닮움에 탐교 램삥 끄레 좋았음 칸단휘 라꼬오 실는 베닯 앍러 라꼬오 실는 숲뉠댜 하께 씻섦운 숯료 랒면 뿌른 할룽 많낭 껀딧선 낢위 읗멕 던떼 할룽 윈텔리 빻로 켁끝 여옰 넸플뤽 굽빕 같셩피 셥퓌 실눈 욀료 뜻합뉘탸 뮬있 갛는 맸윷 굶맵 닌딸 맞댜 우멍햐 옥쉼 웝뉨 3데 식 뤼얻 셕씩 덥 켠딪선 왓숩뉘댜 풀펀 씻셜운 욧선부 앉쿄 악켱울 댜둘 환뷸헤 옥촛 묽겄또 있엾 떠렁 쫏씩됴 눈이 3셩 ̣ 뭬닢 뻔운 깥성 밑췬 쉽닒댜 뀝뿐 팔랖 틀렀 받탁 꼿익 냔뉘 욕씰 뽑 펀얀학궤 삐싼 많낭 냐욕교 같셩피 꼬쓴 윕취또 썹빚쑤 윕뉘답 윙췬눈 격교 빵무 엾셔 뇰겨뤼 땅황 있엾 넣묾 탐교 걔홱 송움 끄레 여욥 같셩피 갓 랴꼬욜 닌딸 을로 샹갸 넜뮨 옌오 헤셥 까윕 쉽닒댜 까윕 할룽 앉닒먼 좋앗오 랴꼬욜 헤셥 찔를 면똑 5셩쿱 휄쑤 검의 헷섬 까궤 유코 실는 추찾창 둘엷 낮웨 찜태됴 "
     ]
    }
   ],
   "source": [
    "sample_logic = logits.clone().detach()\n",
    "predicted_token_ids = torch.argmax(sample_logic, dim=-1)  # torch.Size([4000])\n",
    "for token_id in predicted_token_ids:\n",
    "    text = tokenizer.id_to_token(token_id)\n",
    "    print(text,end=' ')"
   ]
  },
  {
   "cell_type": "code",
   "execution_count": 19,
   "metadata": {},
   "outputs": [
    {
     "name": "stdout",
     "output_type": "stream",
     "text": [
      "콴 뤽까 쩡맑 챨 뙈 있꾜 싸쟝뉨 위 친쩔 핫쉼 . 동 퀴뤼 탸 딱 땀 닥 얀 붙여 잇옆 섶 좋앝 숨 . 똘 롯 엽 윕 얀뉠랴 쨔 솝 릴 얀 듦림 . 깍걱 동 꿴찬 교 졍먈 만촉한 굣 . <pad> <pad> <pad> <pad> <pad> <pad> <pad> <pad> <pad> <pad> <pad> <pad> <pad> <pad> <pad> <pad> <pad> <pad> <pad> <pad> <pad> <pad> <pad> <pad> <pad> <pad> <pad> <pad> <pad> <pad> <pad> <pad> <pad> <pad> <pad> <pad> <pad> <pad> <pad> <pad> <pad> <pad> <pad> <pad> <pad> <pad> <pad> <pad> <pad> <pad> <pad> <pad> <pad> <pad> <pad> <pad> <pad> <pad> <pad> <pad> <pad> <pad> <pad> <pad> <pad> <pad> <pad> <pad> <pad> <pad> <pad> <pad> <pad> <pad> <pad> <pad> <pad> <pad> <pad> <pad> <pad> <pad> <pad> <pad> <pad> <pad> <pad> <pad> <pad> <pad> <pad> <pad> <pad> <pad> <pad> <pad> <pad> <pad> <pad> <pad> <pad> <pad> <pad> <pad> <pad> <pad> <pad> <pad> <pad> <pad> <pad> <pad> <pad> <pad> <pad> <pad> <pad> <pad> <pad> <pad> <pad> <pad> <pad> <pad> <pad> <pad> <pad> <pad> <pad> <pad> <pad> <pad> <pad> <pad> <pad> <pad> <pad> <pad> <pad> <pad> <pad> <pad> <pad> <pad> <pad> <pad> <pad> <pad> <pad> <pad> <pad> <pad> <pad> <pad> <pad> <pad> <pad> <pad> <pad> <pad> <pad> <pad> <pad> <pad> <pad> <pad> <pad> <pad> <pad> <pad> <pad> <pad> <pad> <pad> <pad> <pad> <pad> <pad> <pad> <pad> <pad> <pad> <pad> <pad> <pad> <pad> <pad> <pad> <pad> <pad> <pad> <pad> <pad> <pad> <pad> <pad> <pad> <pad> <pad> <pad> <pad> <pad> <pad> <pad> <pad> <pad> <pad> <pad> <pad> <pad> <pad> <pad> <pad> <pad> <pad> <pad> <pad> <pad> <pad> <pad> <pad> <pad> <pad> <pad> <pad> <pad> <pad> <pad> <pad> <pad> <pad> <pad> <pad> <pad> <pad> <pad> <pad> <pad> <pad> <pad> <pad> <pad> <pad> <pad> <pad> <pad> <pad> <pad> <pad> <pad> <pad> <pad> <pad> <pad> <pad> <pad> <pad> <pad> <pad> <pad> <pad> <pad> <pad> <pad> <pad> <pad> <pad> <pad> <pad> <pad> <pad> <pad> <pad> <pad> <pad> <pad> <pad> <pad> <pad> <pad> <pad> <pad> <pad> <pad> <pad> <pad> <pad> <pad> <pad> <pad> <pad> <pad> <pad> <pad> <pad> <pad> <pad> <pad> <pad> <pad> <pad> <pad> <pad> <pad> <pad> <pad> <pad> <pad> <pad> <pad> <pad> <pad> <pad> <pad> <pad> <pad> <pad> <pad> <pad> <pad> <pad> <pad> <pad> <pad> <pad> <pad> <pad> <pad> <pad> <pad> <pad> <pad> <pad> <pad> <pad> <pad> <pad> <pad> <pad> <pad> <pad> <pad> <pad> <pad> <pad> <pad> <pad> <pad> <pad> <pad> <pad> <pad> <pad> <pad> <pad> <pad> <pad> <pad> <pad> <pad> <pad> <pad> <pad> <pad> <pad> <pad> <pad> <pad> <pad> <pad> <pad> <pad> <pad> <pad> <pad> <pad> <pad> <pad> <pad> <pad> <pad> <pad> <pad> <pad> <pad> <pad> <pad> <pad> <pad> <pad> <pad> <pad> <pad> <pad> <pad> <pad> <pad> <pad> <pad> <pad> <pad> <pad> <pad> <pad> <pad> <pad> <pad> <pad> <pad> <pad> <pad> <pad> <pad> <pad> <pad> <pad> <pad> <pad> <pad> <pad> <pad> <pad> <pad> <pad> <pad> <pad> <pad> <pad> <pad> <pad> <pad> <pad> <pad> <pad> <pad> <pad> <pad> <pad> <pad> <pad> <pad> <pad> <pad> <pad> <pad> <pad> <pad> <pad> <pad> <pad> <pad> <pad> <pad> <pad> <pad> <pad> <pad> <pad> <pad> <pad> <pad> <pad> <pad> <pad> <pad> <pad> <pad> <pad> <pad> <pad> <pad> <pad> <pad> <pad> <pad> <pad> <pad> <pad> <pad> <pad> <pad> <pad> <pad> <pad> <pad> <pad> <pad> <pad> <pad> <pad> <pad> <pad> <pad> <pad> <pad> <pad> <pad> <pad> <pad> <pad> <pad> <pad> <pad> <pad> <pad> <pad> <pad> <pad> <pad> <pad> <pad> <pad> <pad> <pad> <pad> <pad> <pad> <pad> <pad> <pad> <pad> <pad> <pad> <pad> <pad> <pad> <pad> <pad> <pad> <pad> <pad> <pad> <pad> <pad> <pad> <pad> <pad> <pad> <pad> <pad> <pad> <pad> <pad> <pad> <pad> <pad> <pad> <pad> <pad> <pad> <pad> <pad> <pad> <pad> <pad> <pad> <pad> <pad> <pad> <pad> <pad> <pad> <pad> <pad> <pad> <pad> <pad> <pad> <pad> <pad> <pad> <pad> <pad> <pad> <pad> <pad> <pad> <pad> <pad> <pad> <pad> <pad> <pad> <pad> <pad> <pad> <pad> <pad> <pad> <pad> <pad> <pad> <pad> <pad> <pad> <pad> <pad> <pad> <pad> <pad> <pad> <pad> <pad> <pad> <pad> <pad> <pad> <pad> <pad> <pad> <pad> <pad> <pad> <pad> <pad> <pad> <pad> <pad> <pad> <pad> <pad> <pad> <pad> <pad> <pad> <pad> <pad> <pad> <pad> <pad> <pad> <pad> <pad> <pad> <pad> <pad> <pad> <pad> <pad> <pad> <pad> <pad> <pad> <pad> <pad> <pad> <pad> <pad> <pad> <pad> <pad> <pad> <pad> <pad> <pad> <pad> <pad> <pad> <pad> <pad> <pad> <pad> <pad> <pad> <pad> <pad> <pad> <pad> <pad> <pad> <pad> <pad> <pad> <pad> <pad> <pad> <pad> <pad> <pad> <pad> <pad> <pad> <pad> <pad> <pad> <pad> <pad> <pad> <pad> <pad> <pad> <pad> <pad> <pad> <pad> <pad> <pad> <pad> <pad> <pad> <pad> <pad> <pad> <pad> <pad> <pad> <pad> <pad> <pad> <pad> <pad> <pad> <pad> <pad> <pad> <pad> <pad> <pad> <pad> <pad> <pad> <pad> <pad> <pad> <pad> <pad> <pad> <pad> <pad> <pad> <pad> <pad> <pad> <pad> <pad> <pad> <pad> <pad> <pad> <pad> <pad> <pad> <pad> <pad> <pad> <pad> <pad> <pad> <pad> <pad> <pad> <pad> <pad> <pad> <pad> <pad> <pad> <pad> <pad> <pad> <pad> <pad> <pad> <pad> <pad> <pad> <pad> <pad> <pad> <pad> <pad> <pad> <pad> <pad> <pad> <pad> <pad> <pad> <pad> <pad> <pad> <pad> <pad> <pad> <pad> <pad> <pad> <pad> <pad> <pad> <pad> <pad> <pad> <pad> <pad> <pad> <pad> <pad> <pad> <pad> <pad> <pad> <pad> <pad> <pad> <pad> <pad> <pad> <pad> <pad> <pad> <pad> <pad> <pad> <pad> <pad> <pad> <pad> <pad> <pad> <pad> <pad> <pad> <pad> <pad> <pad> <pad> <pad> <pad> <pad> <pad> <pad> <pad> <pad> <pad> <pad> <pad> <pad> <pad> <pad> <pad> <pad> <pad> <pad> <pad> <pad> <pad> <pad> <pad> <pad> <pad> <pad> <pad> <pad> <pad> <pad> <pad> <pad> <pad> <pad> <pad> <pad> <pad> <pad> <pad> <pad> <pad> <pad> <pad> <pad> <pad> <pad> <pad> <pad> <pad> <pad> <pad> <pad> <pad> <pad> <pad> <pad> <pad> <pad> <pad> <pad> <pad> <pad> <pad> <pad> <pad> <pad> <pad> <pad> <pad> <pad> <pad> <pad> <pad> <pad> <pad> <pad> <pad> <pad> <pad> <pad> <pad> <pad> <pad> <pad> <pad> <pad> <pad> <pad> <pad> <pad> <pad> <pad> <pad> <pad> <pad> <pad> <pad> <pad> <pad> <pad> <pad> <pad> <pad> <pad> <pad> <pad> <pad> <pad> <pad> <pad> <pad> <pad> <pad> <pad> <pad> <pad> <pad> <pad> <pad> <pad> <pad> <pad> <pad> <pad> <pad> <pad> <pad> <pad> <pad> <pad> <pad> <pad> <pad> <pad> <pad> <pad> <pad> <pad> <pad> <pad> <pad> <pad> <pad> <pad> <pad> <pad> <pad> <pad> <pad> <pad> <pad> <pad> <pad> <pad> <pad> <pad> <pad> <pad> <pad> <pad> <pad> <pad> <pad> <pad> <pad> <pad> <pad> <pad> <pad> <pad> <pad> <pad> <pad> <pad> <pad> <pad> <pad> <pad> <pad> <pad> <pad> <pad> <pad> <pad> <pad> <pad> <pad> <pad> <pad> <pad> <pad> <pad> <pad> <pad> <pad> <pad> <pad> <pad> <pad> <pad> <pad> <pad> <pad> <pad> <pad> <pad> <pad> <pad> <pad> <pad> <pad> <pad> <pad> <pad> <pad> <pad> <pad> <pad> <pad> <pad> <pad> <pad> <pad> <pad> <pad> <pad> <pad> <pad> <pad> <pad> <pad> <pad> <pad> <pad> <pad> <pad> <pad> <pad> <pad> <pad> <pad> <pad> <pad> <pad> <pad> <pad> <pad> <pad> <pad> <pad> <pad> <pad> <pad> <pad> <pad> <pad> <pad> <pad> <pad> <pad> <pad> <pad> <pad> <pad> <pad> <pad> <pad> <pad> <pad> <pad> <pad> <pad> <pad> <pad> <pad> <pad> <pad> <pad> <pad> <pad> <pad> <pad> <pad> <pad> <pad> <pad> <pad> <pad> <pad> <pad> <pad> <pad> <pad> <pad> <pad> <pad> <pad> <pad> <pad> <pad> <pad> <pad> <pad> <pad> <pad> <pad> <pad> <pad> <pad> <pad> <pad> <pad> <pad> <pad> <pad> <pad> <pad> <pad> <pad> <pad> <pad> <pad> <pad> <pad> <pad> <pad> <pad> <pad> <pad> <pad> <pad> <pad> <pad> <pad> <pad> <pad> <pad> <pad> <pad> <pad> <pad> <pad> <pad> <pad> <pad> <pad> <pad> <pad> <pad> <pad> <pad> <pad> <pad> <pad> <pad> <pad> <pad> <pad> <pad> <pad> <pad> <pad> <pad> <pad> <pad> <pad> <pad> <pad> <pad> <pad> <pad> <pad> <pad> <pad> <pad> <pad> <pad> <pad> <pad> <pad> <pad> <pad> <pad> <pad> <pad> <pad> <pad> <pad> <pad> <pad> <pad> <pad> <pad> <pad> <pad> <pad> <pad> <pad> <pad> <pad> <pad> <pad> <pad> <pad> <pad> <pad> <pad> <pad> <pad> <pad> <pad> <pad> <pad> <pad> <pad> <pad> <pad> <pad> <pad> <pad> <pad> <pad> <pad> <pad> <pad> <pad> <pad> <pad> <pad> <pad> <pad> <pad> <pad> <pad> <pad> <pad> <pad> <pad> <pad> <pad> <pad> <pad> <pad> <pad> <pad> <pad> <pad> <pad> <pad> <pad> <pad> <pad> <pad> <pad> <pad> <pad> <pad> <pad> <pad> <pad> <pad> <pad> <pad> <pad> <pad> <pad> <pad> <pad> <pad> <pad> <pad> <pad> <pad> <pad> <pad> <pad> <pad> <pad> <pad> <pad> <pad> <pad> <pad> <pad> <pad> <pad> <pad> <pad> <pad> <pad> <pad> <pad> <pad> <pad> <pad> <pad> <pad> <pad> <pad> <pad> <pad> <pad> <pad> <pad> <pad> <pad> <pad> <pad> <pad> <pad> <pad> <pad> <pad> <pad> <pad> <pad> <pad> <pad> <pad> <pad> <pad> <pad> <pad> <pad> <pad> <pad> <pad> <pad> <pad> <pad> <pad> <pad> <pad> <pad> <pad> <pad> <pad> <pad> <pad> <pad> <pad> <pad> <pad> <pad> <pad> <pad> <pad> <pad> <pad> <pad> <pad> <pad> <pad> <pad> <pad> <pad> <pad> <pad> <pad> <pad> <pad> <pad> <pad> <pad> <pad> <pad> <pad> <pad> <pad> <pad> <pad> <pad> <pad> <pad> <pad> <pad> <pad> <pad> <pad> <pad> <pad> <pad> <pad> <pad> <pad> <pad> <pad> <pad> <pad> <pad> <pad> <pad> <pad> <pad> <pad> <pad> <pad> <pad> <pad> <pad> <pad> <pad> <pad> <pad> <pad> <pad> <pad> <pad> <pad> <pad> <pad> <pad> <pad> <pad> <pad> <pad> <pad> <pad> <pad> <pad> <pad> <pad> <pad> <pad> <pad> <pad> <pad> <pad> <pad> <pad> <pad> <pad> <pad> <pad> <pad> <pad> <pad> <pad> <pad> <pad> <pad> <pad> <pad> <pad> <pad> <pad> <pad> <pad> <pad> <pad> <pad> <pad> <pad> <pad> <pad> <pad> <pad> <pad> <pad> <pad> <pad> <pad> <pad> <pad> <pad> <pad> <pad> <pad> <pad> <pad> <pad> <pad> <pad> <pad> <pad> <pad> <pad> <pad> <pad> <pad> <pad> <pad> <pad> <pad> <pad> <pad> <pad> <pad> <pad> <pad> <pad> <pad> <pad> <pad> <pad> <pad> <pad> <pad> <pad> <pad> <pad> <pad> <pad> <pad> <pad> <pad> <pad> <pad> <pad> <pad> <pad> <pad> <pad> <pad> <pad> <pad> <pad> <pad> <pad> <pad> <pad> <pad> <pad> <pad> <pad> <pad> <pad> <pad> <pad> <pad> <pad> <pad> <pad> <pad> <pad> <pad> <pad> <pad> <pad> <pad> <pad> <pad> <pad> <pad> <pad> <pad> <pad> <pad> <pad> <pad> <pad> <pad> <pad> <pad> <pad> <pad> <pad> <pad> <pad> <pad> <pad> <pad> <pad> <pad> <pad> <pad> <pad> <pad> <pad> <pad> <pad> <pad> <pad> <pad> <pad> <pad> <pad> <pad> <pad> <pad> <pad> <pad> <pad> <pad> <pad> <pad> <pad> <pad> <pad> <pad> <pad> <pad> <pad> <pad> <pad> <pad> <pad> <pad> <pad> <pad> <pad> <pad> <pad> <pad> <pad> <pad> <pad> <pad> <pad> <pad> <pad> <pad> <pad> <pad> <pad> <pad> <pad> <pad> <pad> <pad> <pad> <pad> <pad> <pad> <pad> <pad> <pad> <pad> <pad> <pad> <pad> <pad> <pad> <pad> <pad> <pad> <pad> <pad> <pad> <pad> <pad> <pad> <pad> <pad> <pad> <pad> <pad> <pad> <pad> <pad> <pad> <pad> <pad> <pad> <pad> <pad> <pad> <pad> <pad> <pad> <pad> <pad> <pad> <pad> <pad> <pad> <pad> <pad> <pad> <pad> <pad> <pad> <pad> <pad> <pad> <pad> <pad> <pad> <pad> <pad> <pad> <pad> <pad> <pad> <pad> <pad> <pad> <pad> <pad> <pad> <pad> <pad> <pad> <pad> <pad> <pad> <pad> <pad> <pad> <pad> <pad> <pad> <pad> <pad> <pad> <pad> <pad> <pad> <pad> <pad> <pad> <pad> <pad> <pad> <pad> <pad> <pad> <pad> <pad> <pad> <pad> <pad> <pad> <pad> <pad> <pad> <pad> <pad> <pad> <pad> <pad> <pad> <pad> <pad> <pad> <pad> <pad> <pad> <pad> <pad> <pad> <pad> <pad> <pad> <pad> <pad> <pad> <pad> <pad> <pad> <pad> <pad> <pad> <pad> <pad> <pad> <pad> <pad> <pad> <pad> <pad> <pad> <pad> <pad> <pad> <pad> <pad> <pad> <pad> <pad> <pad> <pad> <pad> <pad> <pad> <pad> <pad> <pad> <pad> <pad> <pad> <pad> <pad> <pad> <pad> <pad> <pad> <pad> <pad> <pad> <pad> <pad> <pad> <pad> <pad> <pad> <pad> <pad> <pad> <pad> <pad> <pad> <pad> <pad> <pad> <pad> <pad> <pad> <pad> <pad> <pad> <pad> <pad> <pad> <pad> <pad> <pad> <pad> <pad> <pad> <pad> <pad> <pad> <pad> <pad> <pad> <pad> <pad> <pad> <pad> <pad> <pad> <pad> <pad> <pad> <pad> <pad> <pad> <pad> <pad> <pad> <pad> <pad> <pad> <pad> <pad> <pad> <pad> <pad> <pad> <pad> <pad> <pad> <pad> <pad> <pad> <pad> <pad> <pad> <pad> <pad> <pad> <pad> <pad> <pad> <pad> <pad> <pad> <pad> <pad> <pad> <pad> <pad> <pad> <pad> <pad> <pad> <pad> <pad> <pad> <pad> <pad> <pad> <pad> <pad> <pad> <pad> <pad> <pad> <pad> <pad> <pad> <pad> <pad> <pad> <pad> <pad> <pad> <pad> <pad> <pad> <pad> <pad> <pad> <pad> <pad> <pad> <pad> <pad> <pad> <pad> <pad> <pad> <pad> <pad> <pad> <pad> <pad> <pad> <pad> <pad> <pad> <pad> <pad> <pad> <pad> <pad> <pad> <pad> <pad> <pad> 탈른 홋뗄 엣써는 옻선 븅 뻘료 앉 언 했눈뒈 , 엇 뀐 핼써 아 ㅠㅠ 옥씰 돛 좋코 찜데됴 좋교 산책 료됴 좋꽁 붙 뎄 쉿설 , 싸윤 낱 , 쌓 갇토 좋얏씁뉘댜 . <pad> <pad> <pad> <pad> <pad> <pad> <pad> <pad> <pad> <pad> <pad> <pad> <pad> <pad> <pad> <pad> <pad> <pad> <pad> <pad> <pad> <pad> <pad> <pad> <pad> <pad> <pad> <pad> <pad> <pad> <pad> <pad> <pad> <pad> <pad> <pad> <pad> <pad> <pad> <pad> <pad> <pad> <pad> <pad> <pad> <pad> <pad> <pad> <pad> <pad> <pad> <pad> <pad> <pad> <pad> <pad> <pad> <pad> <pad> <pad> <pad> <pad> <pad> <pad> <pad> <pad> <pad> <pad> <pad> <pad> <pad> <pad> <pad> <pad> <pad> <pad> <pad> <pad> <pad> <pad> <pad> <pad> <pad> <pad> <pad> <pad> <pad> <pad> <pad> <pad> <pad> <pad> <pad> <pad> <pad> <pad> <pad> <pad> <pad> <pad> <pad> <pad> <pad> <pad> <pad> <pad> <pad> <pad> <pad> <pad> <pad> <pad> <pad> <pad> <pad> <pad> <pad> <pad> <pad> <pad> <pad> <pad> <pad> <pad> <pad> <pad> <pad> <pad> <pad> <pad> <pad> <pad> <pad> <pad> <pad> <pad> <pad> <pad> <pad> <pad> <pad> <pad> <pad> <pad> <pad> <pad> <pad> <pad> <pad> <pad> <pad> <pad> <pad> <pad> <pad> <pad> <pad> <pad> <pad> <pad> <pad> <pad> <pad> <pad> <pad> <pad> <pad> <pad> <pad> <pad> <pad> <pad> <pad> <pad> <pad> <pad> <pad> <pad> <pad> <pad> <pad> <pad> <pad> <pad> <pad> <pad> <pad> <pad> <pad> <pad> <pad> <pad> <pad> <pad> <pad> <pad> <pad> <pad> <pad> <pad> <pad> <pad> <pad> <pad> <pad> <pad> <pad> <pad> <pad> <pad> <pad> <pad> <pad> <pad> <pad> <pad> <pad> <pad> <pad> <pad> <pad> <pad> <pad> <pad> <pad> <pad> <pad> <pad> <pad> <pad> <pad> <pad> <pad> <pad> <pad> <pad> <pad> <pad> <pad> <pad> <pad> <pad> <pad> <pad> <pad> <pad> <pad> <pad> <pad> <pad> <pad> <pad> <pad> <pad> <pad> <pad> <pad> <pad> <pad> <pad> <pad> <pad> <pad> <pad> <pad> <pad> <pad> <pad> <pad> <pad> <pad> <pad> <pad> <pad> <pad> <pad> <pad> <pad> <pad> <pad> <pad> <pad> <pad> <pad> <pad> <pad> <pad> <pad> <pad> <pad> <pad> <pad> <pad> <pad> <pad> <pad> <pad> <pad> <pad> <pad> <pad> <pad> <pad> <pad> <pad> <pad> <pad> <pad> <pad> <pad> <pad> <pad> <pad> <pad> <pad> <pad> <pad> <pad> <pad> <pad> <pad> <pad> <pad> <pad> <pad> <pad> <pad> <pad> <pad> <pad> <pad> <pad> <pad> <pad> <pad> <pad> <pad> <pad> <pad> <pad> <pad> <pad> <pad> <pad> <pad> <pad> <pad> <pad> <pad> <pad> <pad> <pad> <pad> <pad> <pad> <pad> <pad> <pad> <pad> <pad> <pad> <pad> <pad> <pad> <pad> <pad> <pad> <pad> <pad> <pad> <pad> <pad> <pad> <pad> <pad> <pad> <pad> <pad> <pad> <pad> <pad> <pad> <pad> <pad> <pad> <pad> <pad> <pad> <pad> <pad> <pad> <pad> <pad> <pad> <pad> <pad> <pad> <pad> <pad> <pad> <pad> <pad> <pad> <pad> <pad> <pad> <pad> <pad> <pad> <pad> <pad> <pad> <pad> <pad> <pad> <pad> <pad> <pad> <pad> <pad> <pad> <pad> <pad> <pad> <pad> <pad> <pad> <pad> <pad> <pad> <pad> <pad> <pad> <pad> <pad> <pad> <pad> <pad> <pad> <pad> <pad> <pad> <pad> <pad> <pad> <pad> <pad> <pad> <pad> <pad> <pad> <pad> <pad> <pad> <pad> <pad> <pad> <pad> <pad> <pad> <pad> <pad> <pad> <pad> <pad> <pad> <pad> <pad> <pad> <pad> <pad> <pad> <pad> <pad> <pad> <pad> <pad> <pad> <pad> <pad> <pad> <pad> <pad> <pad> <pad> <pad> <pad> <pad> <pad> <pad> <pad> <pad> <pad> <pad> <pad> <pad> <pad> <pad> <pad> <pad> <pad> <pad> <pad> <pad> <pad> <pad> <pad> <pad> <pad> <pad> <pad> <pad> <pad> <pad> <pad> <pad> <pad> <pad> <pad> <pad> <pad> <pad> <pad> <pad> <pad> <pad> <pad> <pad> <pad> <pad> <pad> <pad> <pad> <pad> <pad> <pad> <pad> <pad> <pad> <pad> <pad> <pad> <pad> <pad> <pad> <pad> <pad> <pad> <pad> <pad> <pad> <pad> <pad> <pad> <pad> <pad> <pad> <pad> <pad> <pad> <pad> <pad> <pad> <pad> <pad> <pad> <pad> <pad> <pad> <pad> <pad> <pad> <pad> <pad> <pad> <pad> <pad> <pad> <pad> <pad> <pad> <pad> <pad> <pad> <pad> <pad> <pad> <pad> <pad> <pad> <pad> <pad> <pad> <pad> <pad> <pad> <pad> <pad> <pad> <pad> <pad> <pad> <pad> <pad> <pad> <pad> <pad> <pad> <pad> <pad> <pad> <pad> <pad> <pad> <pad> <pad> <pad> <pad> <pad> <pad> <pad> <pad> <pad> <pad> <pad> <pad> <pad> <pad> <pad> <pad> <pad> <pad> <pad> <pad> <pad> <pad> <pad> <pad> <pad> <pad> <pad> <pad> <pad> <pad> <pad> <pad> <pad> <pad> <pad> <pad> <pad> <pad> <pad> <pad> <pad> <pad> <pad> <pad> <pad> <pad> <pad> <pad> <pad> <pad> <pad> <pad> <pad> <pad> <pad> <pad> <pad> <pad> <pad> <pad> <pad> <pad> <pad> <pad> <pad> <pad> <pad> <pad> <pad> <pad> <pad> <pad> <pad> <pad> <pad> <pad> <pad> <pad> <pad> <pad> <pad> <pad> <pad> <pad> <pad> <pad> <pad> <pad> <pad> <pad> <pad> <pad> <pad> <pad> <pad> <pad> <pad> <pad> <pad> <pad> <pad> <pad> <pad> <pad> <pad> <pad> <pad> <pad> <pad> <pad> <pad> <pad> <pad> <pad> <pad> <pad> <pad> <pad> <pad> <pad> <pad> <pad> <pad> <pad> <pad> <pad> <pad> <pad> <pad> <pad> <pad> <pad> <pad> <pad> <pad> <pad> <pad> <pad> <pad> <pad> <pad> <pad> <pad> <pad> <pad> <pad> <pad> <pad> <pad> <pad> <pad> <pad> <pad> <pad> <pad> <pad> <pad> <pad> <pad> <pad> <pad> <pad> <pad> <pad> <pad> <pad> <pad> <pad> <pad> <pad> <pad> <pad> <pad> <pad> <pad> <pad> <pad> <pad> <pad> <pad> <pad> <pad> <pad> <pad> <pad> <pad> <pad> <pad> <pad> <pad> <pad> <pad> <pad> <pad> <pad> <pad> <pad> <pad> <pad> <pad> <pad> <pad> <pad> <pad> <pad> <pad> <pad> <pad> <pad> <pad> <pad> <pad> <pad> <pad> <pad> <pad> <pad> <pad> <pad> <pad> <pad> <pad> <pad> <pad> <pad> <pad> <pad> <pad> <pad> <pad> <pad> <pad> <pad> <pad> <pad> <pad> <pad> <pad> <pad> <pad> <pad> <pad> <pad> <pad> <pad> <pad> <pad> <pad> <pad> <pad> <pad> <pad> <pad> <pad> <pad> <pad> <pad> <pad> <pad> <pad> <pad> <pad> <pad> <pad> <pad> <pad> <pad> <pad> <pad> <pad> <pad> <pad> <pad> <pad> <pad> <pad> <pad> <pad> <pad> <pad> <pad> <pad> <pad> <pad> <pad> <pad> <pad> <pad> <pad> <pad> <pad> <pad> <pad> <pad> <pad> <pad> <pad> <pad> <pad> <pad> <pad> <pad> <pad> <pad> <pad> <pad> <pad> <pad> <pad> <pad> <pad> <pad> <pad> <pad> <pad> <pad> <pad> <pad> <pad> <pad> <pad> <pad> <pad> <pad> <pad> <pad> <pad> <pad> <pad> <pad> <pad> <pad> <pad> <pad> <pad> <pad> <pad> <pad> <pad> <pad> <pad> <pad> <pad> <pad> <pad> <pad> <pad> <pad> <pad> <pad> <pad> <pad> <pad> <pad> <pad> <pad> <pad> <pad> <pad> <pad> <pad> <pad> <pad> <pad> <pad> <pad> <pad> <pad> <pad> <pad> <pad> <pad> <pad> <pad> <pad> <pad> <pad> <pad> <pad> <pad> <pad> <pad> <pad> <pad> <pad> <pad> <pad> <pad> <pad> <pad> <pad> <pad> <pad> <pad> <pad> <pad> <pad> <pad> <pad> <pad> <pad> <pad> <pad> <pad> <pad> <pad> <pad> <pad> <pad> <pad> <pad> <pad> <pad> <pad> <pad> <pad> <pad> <pad> <pad> <pad> <pad> <pad> <pad> <pad> <pad> <pad> <pad> <pad> <pad> <pad> <pad> <pad> <pad> <pad> <pad> <pad> <pad> <pad> <pad> <pad> <pad> <pad> <pad> <pad> <pad> <pad> <pad> <pad> <pad> <pad> <pad> <pad> <pad> <pad> <pad> <pad> <pad> <pad> <pad> <pad> <pad> <pad> <pad> <pad> <pad> <pad> <pad> <pad> <pad> <pad> <pad> <pad> <pad> <pad> <pad> <pad> <pad> <pad> <pad> <pad> <pad> <pad> <pad> <pad> <pad> <pad> <pad> <pad> <pad> <pad> <pad> <pad> <pad> <pad> <pad> <pad> <pad> <pad> <pad> <pad> <pad> <pad> <pad> <pad> <pad> <pad> <pad> <pad> <pad> <pad> <pad> <pad> <pad> <pad> <pad> <pad> <pad> <pad> <pad> <pad> <pad> <pad> <pad> <pad> <pad> <pad> <pad> <pad> <pad> <pad> <pad> <pad> <pad> <pad> <pad> <pad> <pad> <pad> <pad> <pad> <pad> <pad> <pad> <pad> <pad> <pad> <pad> <pad> <pad> <pad> <pad> <pad> <pad> <pad> <pad> <pad> <pad> <pad> <pad> <pad> <pad> <pad> <pad> <pad> <pad> <pad> <pad> <pad> <pad> <pad> <pad> <pad> <pad> <pad> <pad> <pad> <pad> <pad> <pad> <pad> <pad> <pad> <pad> <pad> <pad> <pad> <pad> <pad> <pad> <pad> <pad> <pad> <pad> <pad> <pad> <pad> <pad> <pad> <pad> <pad> <pad> <pad> <pad> <pad> <pad> <pad> <pad> <pad> <pad> <pad> <pad> <pad> <pad> <pad> <pad> <pad> <pad> <pad> <pad> <pad> <pad> <pad> <pad> <pad> <pad> <pad> <pad> <pad> <pad> <pad> <pad> <pad> <pad> <pad> <pad> <pad> <pad> <pad> <pad> <pad> <pad> <pad> <pad> <pad> <pad> <pad> <pad> <pad> <pad> <pad> <pad> <pad> <pad> <pad> <pad> <pad> <pad> <pad> <pad> <pad> <pad> <pad> <pad> <pad> <pad> <pad> <pad> <pad> <pad> <pad> <pad> <pad> <pad> <pad> <pad> <pad> <pad> <pad> <pad> <pad> <pad> <pad> <pad> <pad> <pad> <pad> <pad> <pad> <pad> <pad> <pad> <pad> <pad> <pad> <pad> <pad> <pad> <pad> <pad> <pad> <pad> <pad> <pad> <pad> <pad> <pad> <pad> <pad> <pad> <pad> <pad> <pad> <pad> <pad> <pad> <pad> <pad> <pad> <pad> <pad> <pad> <pad> <pad> <pad> <pad> <pad> <pad> <pad> <pad> <pad> <pad> <pad> <pad> <pad> <pad> <pad> <pad> <pad> <pad> <pad> <pad> <pad> <pad> <pad> <pad> <pad> <pad> <pad> <pad> <pad> <pad> <pad> <pad> <pad> <pad> <pad> <pad> <pad> <pad> <pad> <pad> <pad> <pad> <pad> <pad> <pad> <pad> <pad> <pad> <pad> <pad> <pad> <pad> <pad> <pad> <pad> <pad> <pad> <pad> <pad> <pad> <pad> <pad> <pad> <pad> <pad> <pad> <pad> <pad> <pad> <pad> <pad> <pad> <pad> <pad> <pad> <pad> <pad> <pad> <pad> <pad> <pad> <pad> <pad> <pad> <pad> <pad> <pad> <pad> <pad> <pad> <pad> <pad> <pad> <pad> <pad> <pad> <pad> <pad> <pad> <pad> <pad> <pad> <pad> <pad> <pad> <pad> <pad> <pad> <pad> <pad> <pad> <pad> <pad> <pad> <pad> <pad> <pad> <pad> <pad> <pad> <pad> <pad> <pad> <pad> <pad> <pad> <pad> <pad> <pad> <pad> <pad> <pad> <pad> <pad> <pad> <pad> <pad> <pad> <pad> <pad> <pad> <pad> <pad> <pad> <pad> <pad> <pad> <pad> <pad> <pad> <pad> <pad> <pad> <pad> <pad> <pad> <pad> <pad> <pad> <pad> <pad> <pad> <pad> <pad> <pad> <pad> <pad> <pad> <pad> <pad> <pad> <pad> <pad> <pad> <pad> <pad> <pad> <pad> <pad> <pad> <pad> <pad> <pad> <pad> <pad> <pad> <pad> <pad> <pad> <pad> <pad> <pad> <pad> <pad> <pad> <pad> <pad> <pad> <pad> <pad> <pad> <pad> <pad> <pad> <pad> <pad> <pad> <pad> <pad> <pad> <pad> <pad> <pad> <pad> <pad> <pad> <pad> <pad> <pad> <pad> <pad> <pad> <pad> <pad> <pad> <pad> <pad> <pad> <pad> <pad> <pad> <pad> <pad> <pad> <pad> <pad> <pad> <pad> <pad> <pad> <pad> <pad> <pad> <pad> <pad> <pad> <pad> <pad> <pad> <pad> <pad> <pad> <pad> <pad> <pad> <pad> <pad> <pad> <pad> <pad> <pad> <pad> <pad> <pad> <pad> <pad> <pad> <pad> <pad> <pad> <pad> <pad> <pad> <pad> <pad> <pad> <pad> <pad> <pad> <pad> <pad> <pad> <pad> <pad> <pad> <pad> <pad> <pad> <pad> <pad> <pad> <pad> <pad> <pad> <pad> <pad> <pad> <pad> <pad> <pad> <pad> <pad> <pad> <pad> <pad> <pad> <pad> <pad> <pad> <pad> <pad> <pad> <pad> <pad> <pad> <pad> <pad> <pad> <pad> <pad> <pad> <pad> <pad> <pad> <pad> <pad> <pad> <pad> <pad> <pad> <pad> <pad> <pad> <pad> <pad> <pad> <pad> <pad> <pad> <pad> <pad> <pad> <pad> <pad> <pad> <pad> <pad> <pad> <pad> <pad> <pad> <pad> <pad> <pad> <pad> <pad> <pad> <pad> <pad> <pad> <pad> <pad> <pad> <pad> <pad> <pad> <pad> <pad> <pad> <pad> <pad> <pad> <pad> <pad> <pad> <pad> <pad> <pad> <pad> <pad> <pad> <pad> <pad> <pad> <pad> <pad> <pad> <pad> <pad> <pad> <pad> <pad> <pad> <pad> <pad> <pad> <pad> <pad> <pad> <pad> <pad> <pad> <pad> <pad> <pad> <pad> <pad> <pad> <pad> <pad> <pad> <pad> <pad> <pad> <pad> <pad> <pad> <pad> <pad> <pad> <pad> <pad> <pad> <pad> <pad> <pad> <pad> <pad> <pad> <pad> <pad> <pad> <pad> <pad> <pad> <pad> <pad> <pad> <pad> <pad> <pad> <pad> <pad> <pad> <pad> <pad> <pad> <pad> <pad> <pad> <pad> <pad> <pad> <pad> <pad> <pad> <pad> <pad> <pad> <pad> <pad> <pad> <pad> <pad> <pad> <pad> <pad> <pad> <pad> <pad> <pad> <pad> <pad> <pad> <pad> <pad> <pad> <pad> <pad> <pad> <pad> <pad> <pad> <pad> <pad> <pad> <pad> <pad> <pad> <pad> <pad> <pad> <pad> <pad> <pad> <pad> <pad> <pad> <pad> <pad> <pad> <pad> <pad> <pad> <pad> <pad> <pad> <pad> <pad> <pad> <pad> <pad> <pad> <pad> <pad> <pad> <pad> <pad> <pad> <pad> <pad> <pad> <pad> <pad> <pad> <pad> <pad> <pad> <pad> <pad> <pad> <pad> <pad> <pad> <pad> <pad> <pad> <pad> <pad> <pad> <pad> <pad> <pad> <pad> <pad> <pad> <pad> <pad> <pad> <pad> <pad> <pad> <pad> <pad> <pad> <pad> <pad> <pad> <pad> <pad> <pad> <pad> <pad> <pad> <pad> <pad> <pad> <pad> <pad> <pad> <pad> <pad> <pad> <pad> <pad> <pad> <pad> <pad> <pad> <pad> <pad> <pad> <pad> <pad> <pad> <pad> <pad> <pad> <pad> <pad> <pad> <pad> <pad> <pad> <pad> <pad> <pad> <pad> <pad> <pad> <pad> <pad> <pad> <pad> <pad> <pad> <pad> <pad> <pad> <pad> <pad> <pad> <pad> <pad> <pad> <pad> <pad> <pad> <pad> <pad> <pad> <pad> <pad> <pad> <pad> <pad> <pad> <pad> <pad> <pad> <pad> "
     ]
    }
   ],
   "source": [
    "label_sample_logic = labels.clone().detach()\n",
    "for token_id in label_sample_logic:\n",
    "    text = tokenizer.id_to_token(token_id)\n",
    "    print(text,end=' ')"
   ]
  },
  {
   "cell_type": "code",
   "execution_count": null,
   "metadata": {},
   "outputs": [],
   "source": []
  },
  {
   "cell_type": "code",
   "execution_count": null,
   "metadata": {},
   "outputs": [],
   "source": []
  }
 ],
 "metadata": {
  "kernelspec": {
   "display_name": "pytorch",
   "language": "python",
   "name": "python3"
  },
  "language_info": {
   "codemirror_mode": {
    "name": "ipython",
    "version": 3
   },
   "file_extension": ".py",
   "mimetype": "text/x-python",
   "name": "python",
   "nbconvert_exporter": "python",
   "pygments_lexer": "ipython3",
   "version": "3.10.16"
  }
 },
 "nbformat": 4,
 "nbformat_minor": 2
}
