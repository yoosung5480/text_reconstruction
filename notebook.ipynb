{
 "cells": [
  {
   "cell_type": "code",
   "execution_count": 1,
   "metadata": {},
   "outputs": [],
   "source": [
    "import pandas as pd\n",
    "import matplotlib.pyplot as plt\n",
    "import numpy as np\n",
    "import seaborn as sbs\n",
    "from tokenizers import Tokenizer\n",
    "\n",
    "import torch\n",
    "import torch.nn as nn\n",
    "from torch.utils.data import DataLoader, Dataset\n",
    "from transformers import BartConfig, BartModel, PreTrainedTokenizerFast\n",
    "from torch.optim import AdamW\n",
    "\n",
    "from transformers import BartConfig, BartModel, PreTrainedTokenizerFast\n",
    "from tqdm import tqdm\n",
    "import random"
   ]
  },
  {
   "cell_type": "code",
   "execution_count": 2,
   "metadata": {},
   "outputs": [
    {
     "name": "stdout",
     "output_type": "stream",
     "text": [
      "38856\n"
     ]
    }
   ],
   "source": [
    "train_path = 'datas/encoder_augmentation.csv'\n",
    "\n",
    "\n",
    "train_pd = pd.read_csv(train_path)\n",
    "train_text = list(train_pd['input'])\n",
    "print(len(train_text))"
   ]
  },
  {
   "cell_type": "code",
   "execution_count": 3,
   "metadata": {},
   "outputs": [
    {
     "data": {
      "text/plain": [
       "['별 한 게토 았깝땀. 왜 싸람듯릭 펼 1캐를 쥰눈징 컥꺾폰 싸람믐롯섞 맒록 섧멍핥쟈닐 탯끎룐눈 녀뮤 퀼교... 야뭍툰 둠 변 닺씨 깍낄 싫훈 굣. 깸삥읊 20여 년 댜녁뵨 곧 중 쩨윌 귑푼 낙팠떤 곶.',\n",
       " '별 한 게토 었깝떰. 왜 싸람듯릭 펼 1개를 쥴눈징 컥깎폰 싸람믐놋섞 멂록 섧망헕쟈닐 탯끎뇬눈 녀뮤 퀼쿄... 야뭍툰 둠 편 덪씨 깍낀 싫훈 쿗. 깸삥읊 20여 년 댜녁푠 곧 중 쩨윌 귑분 낙밨떤 곶.',\n",
       " '펼 한 케토 았깝떰. 왜 싸람듯닉 펼 1캐를 쥰룬징 컥꺾본 짜람믐롯섞 멂녹 섧멍헕쟈닐 탯끎룐룬 녀뮤 귈교... 야뭍툰 둠 변 닺찌 깍낄 싫훈 쿗. 깸삥읊 20여 년 댜녁뵨 콛 중 쩨윌 큅푼 낙팠떤 곶.',\n",
       " '잚많 쟉꼬 갉 태 좋눼욥. 차못동 줆 ㅋ',\n",
       " '잚많 쟉꼬 칽 태 좋눼욯. 차뫳동 줆 ㅋ']"
      ]
     },
     "execution_count": 3,
     "metadata": {},
     "output_type": "execute_result"
    }
   ],
   "source": [
    "train_text[:5]"
   ]
  }
 ],
 "metadata": {
  "kernelspec": {
   "display_name": "pytorch",
   "language": "python",
   "name": "python3"
  },
  "language_info": {
   "codemirror_mode": {
    "name": "ipython",
    "version": 3
   },
   "file_extension": ".py",
   "mimetype": "text/x-python",
   "name": "python",
   "nbconvert_exporter": "python",
   "pygments_lexer": "ipython3",
   "version": "3.10.16"
  }
 },
 "nbformat": 4,
 "nbformat_minor": 2
}
